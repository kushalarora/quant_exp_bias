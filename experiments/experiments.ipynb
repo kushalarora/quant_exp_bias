{
 "cells": [
  {
   "cell_type": "code",
   "execution_count": 1,
   "metadata": {},
   "outputs": [
    {
     "name": "stdout",
     "output_type": "stream",
     "text": [
      "Requirement already satisfied: seaborn==0.9.0 in /home/kushalarora/anaconda3/lib/python3.6/site-packages (0.9.0)\n",
      "Requirement already satisfied: matplotlib>=1.4.3 in /home/kushalarora/anaconda3/lib/python3.6/site-packages (from seaborn==0.9.0) (3.1.1)\n",
      "Requirement already satisfied: pandas>=0.15.2 in /home/kushalarora/anaconda3/lib/python3.6/site-packages (from seaborn==0.9.0) (0.20.3)\n",
      "Requirement already satisfied: scipy>=0.14.0 in /home/kushalarora/anaconda3/lib/python3.6/site-packages (from seaborn==0.9.0) (0.19.1)\n",
      "Requirement already satisfied: numpy>=1.9.3 in /home/kushalarora/anaconda3/lib/python3.6/site-packages (from seaborn==0.9.0) (1.17.2)\n",
      "Requirement already satisfied: kiwisolver>=1.0.1 in /home/kushalarora/anaconda3/lib/python3.6/site-packages (from matplotlib>=1.4.3->seaborn==0.9.0) (1.1.0)\n",
      "Requirement already satisfied: python-dateutil>=2.1 in /home/kushalarora/anaconda3/lib/python3.6/site-packages (from matplotlib>=1.4.3->seaborn==0.9.0) (2.6.1)\n",
      "Requirement already satisfied: cycler>=0.10 in /home/kushalarora/anaconda3/lib/python3.6/site-packages (from matplotlib>=1.4.3->seaborn==0.9.0) (0.10.0)\n",
      "Requirement already satisfied: pyparsing!=2.0.4,!=2.1.2,!=2.1.6,>=2.0.1 in /home/kushalarora/anaconda3/lib/python3.6/site-packages (from matplotlib>=1.4.3->seaborn==0.9.0) (2.2.0)\n",
      "Requirement already satisfied: pytz>=2011k in /home/kushalarora/anaconda3/lib/python3.6/site-packages (from pandas>=0.15.2->seaborn==0.9.0) (2019.2)\n",
      "Requirement already satisfied: setuptools in /home/kushalarora/anaconda3/lib/python3.6/site-packages (from kiwisolver>=1.0.1->matplotlib>=1.4.3->seaborn==0.9.0) (36.5.0.post20170921)\n",
      "Requirement already satisfied: six>=1.5 in /home/kushalarora/anaconda3/lib/python3.6/site-packages (from python-dateutil>=2.1->matplotlib>=1.4.3->seaborn==0.9.0) (1.11.0)\n",
      "Requirement already satisfied: allennlp==0.8.5 in /home/kushalarora/anaconda3/lib/python3.6/site-packages (0.8.5)\n",
      "Requirement already satisfied: ftfy in /home/kushalarora/anaconda3/lib/python3.6/site-packages (from allennlp==0.8.5) (5.6)\n",
      "Requirement already satisfied: pytest in /home/kushalarora/anaconda3/lib/python3.6/site-packages (from allennlp==0.8.5) (3.2.1)\n",
      "Requirement already satisfied: boto3 in /home/kushalarora/anaconda3/lib/python3.6/site-packages (from allennlp==0.8.5) (1.9.227)\n",
      "Requirement already satisfied: scikit-learn in /home/kushalarora/anaconda3/lib/python3.6/site-packages (from allennlp==0.8.5) (0.19.1)\n",
      "Requirement already satisfied: requests>=2.18 in /home/kushalarora/anaconda3/lib/python3.6/site-packages (from allennlp==0.8.5) (2.18.4)\n",
      "Requirement already satisfied: jsonnet>=0.10.0; sys_platform != \"win32\" in /home/kushalarora/anaconda3/lib/python3.6/site-packages (from allennlp==0.8.5) (0.13.0)\n",
      "Requirement already satisfied: unidecode in /home/kushalarora/anaconda3/lib/python3.6/site-packages (from allennlp==0.8.5) (1.1.1)\n",
      "Requirement already satisfied: tqdm>=4.19 in /home/kushalarora/anaconda3/lib/python3.6/site-packages (from allennlp==0.8.5) (4.36.1)\n",
      "Requirement already satisfied: editdistance in /home/kushalarora/anaconda3/lib/python3.6/site-packages (from allennlp==0.8.5) (0.5.3)\n",
      "Requirement already satisfied: scipy in /home/kushalarora/anaconda3/lib/python3.6/site-packages (from allennlp==0.8.5) (0.19.1)\n",
      "Requirement already satisfied: numpydoc>=0.8.0 in /home/kushalarora/anaconda3/lib/python3.6/site-packages (from allennlp==0.8.5) (0.9.1)\n",
      "Requirement already satisfied: nltk in /home/kushalarora/anaconda3/lib/python3.6/site-packages (from allennlp==0.8.5) (3.2.4)\n",
      "Requirement already satisfied: jsonpickle in /home/kushalarora/anaconda3/lib/python3.6/site-packages (from allennlp==0.8.5) (1.2)\n",
      "Requirement already satisfied: word2number>=1.1 in /home/kushalarora/anaconda3/lib/python3.6/site-packages (from allennlp==0.8.5) (1.1)\n",
      "Requirement already satisfied: sqlparse>=0.2.4 in /home/kushalarora/anaconda3/lib/python3.6/site-packages (from allennlp==0.8.5) (0.3.0)\n",
      "Requirement already satisfied: tensorboardX>=1.2 in /home/kushalarora/anaconda3/lib/python3.6/site-packages (from allennlp==0.8.5) (1.8)\n",
      "Requirement already satisfied: conllu==1.3.1 in /home/kushalarora/anaconda3/lib/python3.6/site-packages (from allennlp==0.8.5) (1.3.1)\n",
      "Requirement already satisfied: flask-cors>=3.0.7 in /home/kushalarora/anaconda3/lib/python3.6/site-packages (from allennlp==0.8.5) (3.0.8)\n",
      "Requirement already satisfied: matplotlib>=2.2.3 in /home/kushalarora/anaconda3/lib/python3.6/site-packages (from allennlp==0.8.5) (3.1.1)\n",
      "Requirement already satisfied: pytz>=2017.3 in /home/kushalarora/anaconda3/lib/python3.6/site-packages (from allennlp==0.8.5) (2019.2)\n",
      "Requirement already satisfied: responses>=0.7 in /home/kushalarora/anaconda3/lib/python3.6/site-packages (from allennlp==0.8.5) (0.10.6)\n",
      "Requirement already satisfied: spacy<2.2,>=2.1.0 in /home/kushalarora/anaconda3/lib/python3.6/site-packages (from allennlp==0.8.5) (2.1.8)\n",
      "Requirement already satisfied: h5py in /home/kushalarora/anaconda3/lib/python3.6/site-packages (from allennlp==0.8.5) (2.7.0)\n",
      "Requirement already satisfied: torch<1.2,>=0.4.1 in /home/kushalarora/anaconda3/lib/python3.6/site-packages (from allennlp==0.8.5) (1.1.0)\n",
      "Requirement already satisfied: overrides in /home/kushalarora/anaconda3/lib/python3.6/site-packages (from allennlp==0.8.5) (1.9)\n",
      "Requirement already satisfied: flask>=1.0.2 in /home/kushalarora/anaconda3/lib/python3.6/site-packages (from allennlp==0.8.5) (1.1.1)\n",
      "Requirement already satisfied: numpy in /home/kushalarora/anaconda3/lib/python3.6/site-packages (from allennlp==0.8.5) (1.17.2)\n",
      "Requirement already satisfied: parsimonious>=0.8.0 in /home/kushalarora/anaconda3/lib/python3.6/site-packages (from allennlp==0.8.5) (0.8.1)\n",
      "Requirement already satisfied: gevent>=1.3.6 in /home/kushalarora/anaconda3/lib/python3.6/site-packages (from allennlp==0.8.5) (1.4.0)\n",
      "Requirement already satisfied: flaky in /home/kushalarora/anaconda3/lib/python3.6/site-packages (from allennlp==0.8.5) (3.6.1)\n",
      "Requirement already satisfied: pytorch-transformers==1.1.0 in /home/kushalarora/anaconda3/lib/python3.6/site-packages (from allennlp==0.8.5) (1.1.0)\n",
      "Requirement already satisfied: pytorch-pretrained-bert>=0.6.0 in /home/kushalarora/anaconda3/lib/python3.6/site-packages (from allennlp==0.8.5) (0.6.2)\n",
      "Requirement already satisfied: wcwidth in /home/kushalarora/anaconda3/lib/python3.6/site-packages (from ftfy->allennlp==0.8.5) (0.1.7)\n",
      "Requirement already satisfied: py>=1.4.33 in /home/kushalarora/anaconda3/lib/python3.6/site-packages (from pytest->allennlp==0.8.5) (1.4.34)\n",
      "Requirement already satisfied: setuptools in /home/kushalarora/anaconda3/lib/python3.6/site-packages (from pytest->allennlp==0.8.5) (36.5.0.post20170921)\n",
      "Requirement already satisfied: botocore<1.13.0,>=1.12.227 in /home/kushalarora/anaconda3/lib/python3.6/site-packages (from boto3->allennlp==0.8.5) (1.12.227)\n",
      "Requirement already satisfied: jmespath<1.0.0,>=0.7.1 in /home/kushalarora/anaconda3/lib/python3.6/site-packages (from boto3->allennlp==0.8.5) (0.9.4)\n",
      "Requirement already satisfied: s3transfer<0.3.0,>=0.2.0 in /home/kushalarora/anaconda3/lib/python3.6/site-packages (from boto3->allennlp==0.8.5) (0.2.1)\n",
      "Requirement already satisfied: chardet<3.1.0,>=3.0.2 in /home/kushalarora/anaconda3/lib/python3.6/site-packages (from requests>=2.18->allennlp==0.8.5) (3.0.4)\n",
      "Requirement already satisfied: idna<2.7,>=2.5 in /home/kushalarora/anaconda3/lib/python3.6/site-packages (from requests>=2.18->allennlp==0.8.5) (2.6)\n",
      "Requirement already satisfied: urllib3<1.23,>=1.21.1 in /home/kushalarora/anaconda3/lib/python3.6/site-packages (from requests>=2.18->allennlp==0.8.5) (1.22)\n",
      "Requirement already satisfied: certifi>=2017.4.17 in /home/kushalarora/anaconda3/lib/python3.6/site-packages (from requests>=2.18->allennlp==0.8.5) (2017.7.27.1)\n",
      "Requirement already satisfied: Jinja2>=2.3 in /home/kushalarora/anaconda3/lib/python3.6/site-packages (from numpydoc>=0.8.0->allennlp==0.8.5) (2.10.3)\n",
      "Requirement already satisfied: sphinx>=1.6.5 in /home/kushalarora/anaconda3/lib/python3.6/site-packages (from numpydoc>=0.8.0->allennlp==0.8.5) (2.2.0)\n",
      "Requirement already satisfied: six in /home/kushalarora/anaconda3/lib/python3.6/site-packages (from nltk->allennlp==0.8.5) (1.11.0)\n",
      "Requirement already satisfied: protobuf>=3.2.0 in /home/kushalarora/anaconda3/lib/python3.6/site-packages (from tensorboardX>=1.2->allennlp==0.8.5) (3.9.1)\n",
      "Requirement already satisfied: python-dateutil>=2.1 in /home/kushalarora/anaconda3/lib/python3.6/site-packages (from matplotlib>=2.2.3->allennlp==0.8.5) (2.6.1)\n",
      "Requirement already satisfied: pyparsing!=2.0.4,!=2.1.2,!=2.1.6,>=2.0.1 in /home/kushalarora/anaconda3/lib/python3.6/site-packages (from matplotlib>=2.2.3->allennlp==0.8.5) (2.2.0)\n",
      "Requirement already satisfied: cycler>=0.10 in /home/kushalarora/anaconda3/lib/python3.6/site-packages (from matplotlib>=2.2.3->allennlp==0.8.5) (0.10.0)\n",
      "Requirement already satisfied: kiwisolver>=1.0.1 in /home/kushalarora/anaconda3/lib/python3.6/site-packages (from matplotlib>=2.2.3->allennlp==0.8.5) (1.1.0)\n",
      "Requirement already satisfied: wasabi<1.1.0,>=0.2.0 in /home/kushalarora/anaconda3/lib/python3.6/site-packages (from spacy<2.2,>=2.1.0->allennlp==0.8.5) (0.2.2)\n",
      "Requirement already satisfied: murmurhash<1.1.0,>=0.28.0 in /home/kushalarora/anaconda3/lib/python3.6/site-packages (from spacy<2.2,>=2.1.0->allennlp==0.8.5) (1.0.2)\n",
      "Requirement already satisfied: thinc<7.1.0,>=7.0.8 in /home/kushalarora/anaconda3/lib/python3.6/site-packages (from spacy<2.2,>=2.1.0->allennlp==0.8.5) (7.0.8)\n",
      "Requirement already satisfied: plac<1.0.0,>=0.9.6 in /home/kushalarora/anaconda3/lib/python3.6/site-packages (from spacy<2.2,>=2.1.0->allennlp==0.8.5) (0.9.6)\n",
      "Requirement already satisfied: srsly<1.1.0,>=0.0.6 in /home/kushalarora/anaconda3/lib/python3.6/site-packages (from spacy<2.2,>=2.1.0->allennlp==0.8.5) (0.1.0)\n",
      "Requirement already satisfied: blis<0.3.0,>=0.2.2 in /home/kushalarora/anaconda3/lib/python3.6/site-packages (from spacy<2.2,>=2.1.0->allennlp==0.8.5) (0.2.4)\n",
      "Requirement already satisfied: preshed<2.1.0,>=2.0.1 in /home/kushalarora/anaconda3/lib/python3.6/site-packages (from spacy<2.2,>=2.1.0->allennlp==0.8.5) (2.0.1)\n",
      "Requirement already satisfied: cymem<2.1.0,>=2.0.2 in /home/kushalarora/anaconda3/lib/python3.6/site-packages (from spacy<2.2,>=2.1.0->allennlp==0.8.5) (2.0.2)\n",
      "Requirement already satisfied: click>=5.1 in /home/kushalarora/anaconda3/lib/python3.6/site-packages (from flask>=1.0.2->allennlp==0.8.5) (6.7)\n",
      "Requirement already satisfied: itsdangerous>=0.24 in /home/kushalarora/anaconda3/lib/python3.6/site-packages (from flask>=1.0.2->allennlp==0.8.5) (0.24)\n",
      "Requirement already satisfied: Werkzeug>=0.15 in /home/kushalarora/anaconda3/lib/python3.6/site-packages (from flask>=1.0.2->allennlp==0.8.5) (0.15.6)\n",
      "Requirement already satisfied: greenlet>=0.4.14; platform_python_implementation == \"CPython\" in /home/kushalarora/anaconda3/lib/python3.6/site-packages (from gevent>=1.3.6->allennlp==0.8.5) (0.4.15)\n",
      "Requirement already satisfied: regex in /home/kushalarora/anaconda3/lib/python3.6/site-packages (from pytorch-transformers==1.1.0->allennlp==0.8.5) (2019.8.19)\n",
      "Requirement already satisfied: sentencepiece in /home/kushalarora/anaconda3/lib/python3.6/site-packages (from pytorch-transformers==1.1.0->allennlp==0.8.5) (0.1.83)\n",
      "Requirement already satisfied: docutils<0.16,>=0.10 in /home/kushalarora/anaconda3/lib/python3.6/site-packages (from botocore<1.13.0,>=1.12.227->boto3->allennlp==0.8.5) (0.14)\n",
      "Requirement already satisfied: MarkupSafe>=0.23 in /home/kushalarora/anaconda3/lib/python3.6/site-packages (from Jinja2>=2.3->numpydoc>=0.8.0->allennlp==0.8.5) (1.0)\n",
      "Requirement already satisfied: babel!=2.0,>=1.3 in /home/kushalarora/anaconda3/lib/python3.6/site-packages (from sphinx>=1.6.5->numpydoc>=0.8.0->allennlp==0.8.5) (2.5.0)\n",
      "Requirement already satisfied: snowballstemmer>=1.1 in /home/kushalarora/anaconda3/lib/python3.6/site-packages (from sphinx>=1.6.5->numpydoc>=0.8.0->allennlp==0.8.5) (1.2.1)\n",
      "Requirement already satisfied: alabaster<0.8,>=0.7 in /home/kushalarora/anaconda3/lib/python3.6/site-packages (from sphinx>=1.6.5->numpydoc>=0.8.0->allennlp==0.8.5) (0.7.10)\n",
      "Requirement already satisfied: sphinxcontrib-htmlhelp in /home/kushalarora/anaconda3/lib/python3.6/site-packages (from sphinx>=1.6.5->numpydoc>=0.8.0->allennlp==0.8.5) (1.0.2)\n",
      "Requirement already satisfied: Pygments>=2.0 in /home/kushalarora/anaconda3/lib/python3.6/site-packages (from sphinx>=1.6.5->numpydoc>=0.8.0->allennlp==0.8.5) (2.2.0)\n",
      "Requirement already satisfied: imagesize in /home/kushalarora/anaconda3/lib/python3.6/site-packages (from sphinx>=1.6.5->numpydoc>=0.8.0->allennlp==0.8.5) (0.7.1)\n",
      "Requirement already satisfied: sphinxcontrib-serializinghtml in /home/kushalarora/anaconda3/lib/python3.6/site-packages (from sphinx>=1.6.5->numpydoc>=0.8.0->allennlp==0.8.5) (1.1.3)\n",
      "Requirement already satisfied: packaging in /home/kushalarora/anaconda3/lib/python3.6/site-packages (from sphinx>=1.6.5->numpydoc>=0.8.0->allennlp==0.8.5) (16.8)\n",
      "Requirement already satisfied: sphinxcontrib-qthelp in /home/kushalarora/anaconda3/lib/python3.6/site-packages (from sphinx>=1.6.5->numpydoc>=0.8.0->allennlp==0.8.5) (1.0.2)\n",
      "Requirement already satisfied: sphinxcontrib-devhelp in /home/kushalarora/anaconda3/lib/python3.6/site-packages (from sphinx>=1.6.5->numpydoc>=0.8.0->allennlp==0.8.5) (1.0.1)\n",
      "Requirement already satisfied: sphinxcontrib-applehelp in /home/kushalarora/anaconda3/lib/python3.6/site-packages (from sphinx>=1.6.5->numpydoc>=0.8.0->allennlp==0.8.5) (1.0.1)\n",
      "Requirement already satisfied: sphinxcontrib-jsmath in /home/kushalarora/anaconda3/lib/python3.6/site-packages (from sphinx>=1.6.5->numpydoc>=0.8.0->allennlp==0.8.5) (1.0.1)\n",
      "Requirement already satisfied: matplotlib in /home/kushalarora/anaconda3/lib/python3.6/site-packages (3.1.1)\n",
      "Requirement already satisfied: kiwisolver>=1.0.1 in /home/kushalarora/anaconda3/lib/python3.6/site-packages (from matplotlib) (1.1.0)\n",
      "Requirement already satisfied: cycler>=0.10 in /home/kushalarora/anaconda3/lib/python3.6/site-packages (from matplotlib) (0.10.0)\n",
      "Requirement already satisfied: python-dateutil>=2.1 in /home/kushalarora/anaconda3/lib/python3.6/site-packages (from matplotlib) (2.6.1)\n",
      "Requirement already satisfied: pyparsing!=2.0.4,!=2.1.2,!=2.1.6,>=2.0.1 in /home/kushalarora/anaconda3/lib/python3.6/site-packages (from matplotlib) (2.2.0)\n",
      "Requirement already satisfied: numpy>=1.11 in /home/kushalarora/anaconda3/lib/python3.6/site-packages (from matplotlib) (1.17.2)\n",
      "Requirement already satisfied: setuptools in /home/kushalarora/anaconda3/lib/python3.6/site-packages (from kiwisolver>=1.0.1->matplotlib) (36.5.0.post20170921)\n",
      "Requirement already satisfied: six in /home/kushalarora/anaconda3/lib/python3.6/site-packages (from cycler>=0.10->matplotlib) (1.11.0)\n",
      "Requirement already satisfied: numpy in /home/kushalarora/anaconda3/lib/python3.6/site-packages (1.17.2)\n"
     ]
    }
   ],
   "source": [
    "!pip install seaborn==0.9.0\n",
    "!pip install allennlp==0.8.5\n",
    "!pip install matplotlib\n",
    "!pip install numpy "
   ]
  },
  {
   "cell_type": "code",
   "execution_count": 4,
   "metadata": {},
   "outputs": [
    {
     "name": "stdout",
     "output_type": "stream",
     "text": [
      "The autoreload extension is already loaded. To reload it, use:\n",
      "  %reload_ext autoreload\n"
     ]
    },
    {
     "ename": "ModuleNotFoundError",
     "evalue": "No module named 'main'",
     "output_type": "error",
     "traceback": [
      "\u001b[0;31m---------------------------------------------------------------------------\u001b[0m",
      "\u001b[0;31mModuleNotFoundError\u001b[0m                       Traceback (most recent call last)",
      "\u001b[0;32m<ipython-input-4-858eb688c0f9>\u001b[0m in \u001b[0;36m<module>\u001b[0;34m()\u001b[0m\n\u001b[1;32m     16\u001b[0m \u001b[0;32mfrom\u001b[0m \u001b[0mallennlp\u001b[0m\u001b[0;34m.\u001b[0m\u001b[0mcommon\u001b[0m\u001b[0;34m.\u001b[0m\u001b[0mutil\u001b[0m \u001b[0;32mimport\u001b[0m \u001b[0mimport_submodules\u001b[0m\u001b[0;34m\u001b[0m\u001b[0m\n\u001b[1;32m     17\u001b[0m \u001b[0;34m\u001b[0m\u001b[0m\n\u001b[0;32m---> 18\u001b[0;31m from experiments.utils import (get_args, quantify_exposure_bias_runner, run,\n\u001b[0m\u001b[1;32m     19\u001b[0m                   sample_oracle_runner, train_runner)\n\u001b[1;32m     20\u001b[0m \u001b[0;32mfrom\u001b[0m \u001b[0mpprint\u001b[0m \u001b[0;32mimport\u001b[0m \u001b[0mpprint\u001b[0m\u001b[0;34m\u001b[0m\u001b[0m\n",
      "\u001b[0;32m~/wdir/quant_exp_bias/experiments/experiments.py\u001b[0m in \u001b[0;36m<module>\u001b[0;34m()\u001b[0m\n\u001b[1;32m     16\u001b[0m \u001b[0;32mfrom\u001b[0m \u001b[0mallennlp\u001b[0m\u001b[0;34m.\u001b[0m\u001b[0mcommon\u001b[0m\u001b[0;34m.\u001b[0m\u001b[0mutil\u001b[0m \u001b[0;32mimport\u001b[0m \u001b[0mimport_submodules\u001b[0m\u001b[0;34m\u001b[0m\u001b[0m\n\u001b[1;32m     17\u001b[0m \u001b[0;34m\u001b[0m\u001b[0m\n\u001b[0;32m---> 18\u001b[0;31m from main import (get_args, quantify_exposure_bias_runner, run,\n\u001b[0m\u001b[1;32m     19\u001b[0m                   sample_oracle_runner, train_runner)\n\u001b[1;32m     20\u001b[0m \u001b[0;32mfrom\u001b[0m \u001b[0mpprint\u001b[0m \u001b[0;32mimport\u001b[0m \u001b[0mpprint\u001b[0m\u001b[0;34m\u001b[0m\u001b[0m\n",
      "\u001b[0;31mModuleNotFoundError\u001b[0m: No module named 'main'"
     ]
    }
   ],
   "source": [
    "%load_ext autoreload\n",
    "%autoreload 2\n",
    "\n",
    "import os\n",
    "import sys\n",
    "import pandas as pd\n",
    "import seaborn as sns\n",
    "\n",
    "from matplotlib import pyplot as plt\n",
    "\n",
    "\n",
    "from datetime import datetime\n",
    "from typing import Dict, List\n",
    "\n",
    "from allennlp.common import Params\n",
    "from allennlp.common.util import import_submodules\n",
    "\n",
    "from experiments.utils import (get_args, quantify_exposure_bias_runner, run,\n",
    "                  sample_oracle_runner, train_runner)\n",
    "from pprint import pprint\n",
    "import_submodules(\"quant_exp_bias\")\n"
   ]
  },
  {
   "cell_type": "markdown",
   "metadata": {},
   "source": [
    "## Basic Setup of grammar and global variables like serialization directory and training config file"
   ]
  },
  {
   "cell_type": "code",
   "execution_count": null,
   "metadata": {
    "collapsed": true
   },
   "outputs": [],
   "source": [
    "FSA_GRAMMAR_STRING = \"\"\"\n",
    "                        q0 -> 'S' q1 [0.9900] | 'a' q1 [0.0025] | 'b' q1 [0.0025] | 'c' q1 [0.0025] | 'E' q1 [0.0025]\n",
    "                        q1 -> 'S' q1 [0.0025] | 'a' q1 [0.3000] | 'b' q1 [0.3000] | 'c' q1 [0.3000] | 'E' q1 [0.0025]\n",
    "                        q1 -> 'S' q2 [0.0025] | 'a' q2 [0.0300] | 'b' q2 [0.0300] | 'c' q2 [0.0300] | 'E' q2 [0.0025]\n",
    "                        q2 -> 'S' [0.0025] | 'a' [0.0025] | 'b' [0.0025] | 'c' [0.0025] | 'E' [0.9900]\n",
    "                    \"\"\"\n",
    "    \n",
    "os.environ[\"FSA_GRAMMAR_STRING\"] = FSA_GRAMMAR_STRING\n",
    "os.environ['ARTIFICIAL_GRAMMAR_TRAIN'] = \"\"\n",
    "os.environ['ARTIFICIAL_GRAMMAR_DEV'] = \"\"\n",
    "\n",
    "# dataset_experiments_params = [(1000,100), (5000,20) , (10000, 10), (50000,2), (100000,1)]\n",
    "dataset_experiments_params = [(10000,2)]\n",
    "\n",
    "num_sample_oracles = 1\n",
    "num_trials = 30\n",
    "num_samples_per_length=500\n",
    "\n",
    "# Ipython by default adds some arguments to sys.argv.\n",
    "#  We don't want those arguments, hence we pass [] here.\n",
    "#\n",
    "# The deafult argument get_args is args=None. \n",
    "# This translates to parsing sys.argv. This is useful\n",
    "# in case we run the method from a python file but not here.\n",
    "# Hence, we keep the default argument as None but pass [] for \n",
    "# ipython notebook.\n",
    "main_args = get_args(args=[])\n",
    "\n",
    "serialization_dir = os.path.join(main_args.output_dir, datetime.now().strftime(\"%m_%d_%Y_%H_%M_%S\"))\n",
    "param_path = main_args.config"
   ]
  },
  {
   "cell_type": "markdown",
   "metadata": {},
   "source": [
    "# Dataset Experiments"
   ]
  },
  {
   "cell_type": "code",
   "execution_count": 2,
   "metadata": {},
   "outputs": [
    {
     "ename": "NameError",
     "evalue": "name 'dataset_experiments_params' is not defined",
     "output_type": "error",
     "traceback": [
      "\u001b[0;31m---------------------------------------------------------------------------\u001b[0m",
      "\u001b[0;31mNameError\u001b[0m                                 Traceback (most recent call last)",
      "\u001b[0;32m<ipython-input-2-9e01f2b45c79>\u001b[0m in \u001b[0;36m<module>\u001b[0;34m()\u001b[0m\n\u001b[1;32m      1\u001b[0m \u001b[0;31m# Setup variables needed later.\u001b[0m\u001b[0;34m\u001b[0m\u001b[0;34m\u001b[0m\u001b[0m\n\u001b[1;32m      2\u001b[0m \u001b[0mdataset_exp_results\u001b[0m \u001b[0;34m=\u001b[0m \u001b[0;34m{\u001b[0m\u001b[0;34m}\u001b[0m\u001b[0;34m\u001b[0m\u001b[0m\n\u001b[0;32m----> 3\u001b[0;31m \u001b[0;32mfor\u001b[0m \u001b[0mnum_samples\u001b[0m\u001b[0;34m,\u001b[0m \u001b[0m_\u001b[0m \u001b[0;32min\u001b[0m \u001b[0mdataset_experiments_params\u001b[0m\u001b[0;34m:\u001b[0m\u001b[0;34m\u001b[0m\u001b[0m\n\u001b[0m\u001b[1;32m      4\u001b[0m     \u001b[0mdataset_exp_results\u001b[0m\u001b[0;34m[\u001b[0m\u001b[0mnum_samples\u001b[0m\u001b[0;34m]\u001b[0m \u001b[0;34m=\u001b[0m \u001b[0;34m[\u001b[0m\u001b[0;34m]\u001b[0m\u001b[0;34m\u001b[0m\u001b[0m\n\u001b[1;32m      5\u001b[0m \u001b[0;34m\u001b[0m\u001b[0m\n",
      "\u001b[0;31mNameError\u001b[0m: name 'dataset_experiments_params' is not defined"
     ]
    }
   ],
   "source": [
    "# Setup variables needed later.\n",
    "dataset_exp_results = {}\n",
    "for num_samples, _ in dataset_experiments_params:\n",
    "    dataset_exp_results[num_samples] = []\n",
    "    \n",
    "orig_serialization_dir = serialization_dir\n",
    "for num_samples, num_runs in dataset_experiments_params:\n",
    "    dexp_serialization_dir = os.path.join(orig_serialization_dir, 'dataset_experiments', str(num_samples))\n",
    "    for num_run in range(num_runs):\n",
    "        serialization_dir = os.path.join(dexp_serialization_dir, str(num_run))\n",
    "        sample_oracle_args = get_args(args=['sample-oracle', param_path, '-s', serialization_dir, '-n', str(num_samples)])\n",
    "        oracle_train_filename, oracle_dev_filename = \\\n",
    "                                    sample_oracle_runner(sample_oracle_args, \n",
    "                                                        serialization_dir);\n",
    "\n",
    "        os.environ['ARTIFICIAL_GRAMMAR_TRAIN'] = oracle_train_filename\n",
    "        os.environ['ARTIFICIAL_GRAMMAR_DEV'] = oracle_dev_filename\n",
    "\n",
    "        train_args = get_args(args=['train' , param_path, '-s', serialization_dir])\n",
    "        trainer_params = Params.from_file(train_args.param_path, train_args.overrides)\n",
    "        cuda_device = trainer_params['trainer']['cuda_device']\n",
    "        train_model_serialization_dir = train_runner(train_args, \n",
    "                                                    serialization_dir);\n",
    "\n",
    "        archive_file = os.path.join(train_model_serialization_dir, 'model.tar.gz')\n",
    "        qeb_output_dir = os.path.join(serialization_dir, 'exp_bias')\n",
    "\n",
    "        qeb_args = get_args(args=['quantify-exposure-bias', archive_file, '--output-dir', qeb_output_dir])\n",
    "        exp_biases, exp_bias_mean, exp_bias_std = quantify_exposure_bias_runner(qeb_args, \n",
    "                                                                                archive_file,\n",
    "                                                                                qeb_output_dir,\n",
    "                                                                                cuda_device=cuda_device, \n",
    "                                                                                num_trials=num_trials,\n",
    "                                                                                num_samples_per_length=num_samples_per_length)\n",
    "        dataset_exp_results[num_samples].extend(exp_biases)\n",
    "pprint(dataset_exp_results)"
   ]
  },
  {
   "cell_type": "code",
   "execution_count": null,
   "metadata": {
    "collapsed": true,
    "jupyter": {
     "outputs_hidden": true
    }
   },
   "outputs": [],
   "source": [
    "import numpy as np\n",
    "for num_samples in dataset_exp_results:\n",
    "    dataset_exp_results[num_samples] = np.mean(dataset_exp_results[num_samples])\n",
    "\n",
    "dataset_exp_results = pd.DataFrame(dataset_exp_results, index=[0])\n",
    "dataset_exp_results.columns"
   ]
  },
  {
   "cell_type": "code",
   "execution_count": null,
   "metadata": {
    "collapsed": true,
    "jupyter": {
     "outputs_hidden": true
    }
   },
   "outputs": [],
   "source": [
    "\n",
    "fig, ax1 = plt.subplots(figsize=(12, 6))\n",
    "\n",
    "sns.barplot(data=dataset_exp_results, ax=ax1)\n",
    "\n",
    "plt.title('Dataset Size vs Exposure Bias')\n",
    "ax1.set_xlabel('Dataset Size')\n",
    "ax1.set_ylabel('Exposure Bias')\n",
    "\n",
    "fig.legend(['exp_biases'])"
   ]
  },
  {
   "cell_type": "markdown",
   "metadata": {},
   "source": [
    "# Validation Experiments"
   ]
  },
  {
   "cell_type": "code",
   "execution_count": null,
   "metadata": {
    "collapsed": true,
    "jupyter": {
     "outputs_hidden": true
    }
   },
   "outputs": [],
   "source": [
    "import glob\n",
    "import json\n",
    "import numpy as np\n",
    "\n",
    "validation_exp_results = {}\n",
    "for num_run in range(num_sample_oracles):\n",
    "    serialization_dir = os.path.join(serialization_dir, 'validation_experiments', str(num_run))\n",
    "    sample_oracle_args = get_args(args=['sample-oracle', param_path, '-s', serialization_dir])\n",
    "    oracle_train_filename, oracle_dev_filename = sample_oracle_runner(sample_oracle_args, \n",
    "                                                                      serialization_dir);\n",
    "\n",
    "    os.environ['ARTIFICIAL_GRAMMAR_TRAIN'] = oracle_train_filename\n",
    "    os.environ['ARTIFICIAL_GRAMMAR_DEV'] = oracle_dev_filename\n",
    "\n",
    "    train_args = get_args(args=['train' , param_path, '-s', serialization_dir])\n",
    "    trainer_params = Params.from_file(train_args.param_path, train_args.overrides)\n",
    "    cuda_device = trainer_params['trainer']['cuda_device']\n",
    "    train_model_serialization_dir = train_runner(train_args, \n",
    "                                                 serialization_dir);\n",
    "\n",
    "    archive_file = os.path.join(train_model_serialization_dir, 'model.tar.gz')\n",
    "    for epoch in range(len(glob.glob(os.path.join(train_model_serialization_dir + '/model_state_epoch_*.th')))):\n",
    "        qeb_output_dir = os.path.join(serialization_dir, 'exp_bias', 'epoch_' + str(epoch))\n",
    "        \n",
    "        # TODO(Kushal): Clean this up.\n",
    "        validation_ppl = json.load(open(os.path.join(train_model_serialization_dir, f'metrics_epoch_{epoch}.json')))['validation_perplexity']\n",
    "\n",
    "        weights_file = os.path.join(train_model_serialization_dir, f'model_state_epoch_{epoch}.th')\n",
    "        qeb_args = get_args(args=['quantify-exposure-bias', archive_file, '--output-dir', qeb_output_dir, '--weights-file', weights_file])\n",
    "        exp_biases, exp_bias_mean, exp_bias_std = quantify_exposure_bias_runner(qeb_args, \n",
    "                                                                                archive_file,\n",
    "                                                                                qeb_output_dir,\n",
    "                                                                                cuda_device=cuda_device,\n",
    "                                                                                weights_file=weights_file,\n",
    "                                                                                num_trials=num_trials,\n",
    "                                                                                num_samples_per_length=num_samples_per_length);\n",
    "        if epoch not in validation_exp_results:\n",
    "            validation_exp_results[epoch] = {\n",
    "                                                'exp_biases': exp_biases,\n",
    "                                                'val_ppl': [validation_ppl],\n",
    "                                                'exp_mean': [exp_bias_mean],\n",
    "                                                'exp_std': [exp_bias_std]\n",
    "                                            }\n",
    "        else:\n",
    "            validation_exp_results[epoch]['exp_biases'].extend(exp_biases)\n",
    "            validation_exp_results[epoch]['val_ppl'].append(validation_ppl)"
   ]
  },
  {
   "cell_type": "code",
   "execution_count": null,
   "metadata": {
    "collapsed": true,
    "jupyter": {
     "outputs_hidden": true
    }
   },
   "outputs": [],
   "source": [
    "for epoch in validation_exp_results:\n",
    "    validation_exp_results[epoch]['exp_biases'] = np.mean(validation_exp_results[epoch]['exp_biases'], dtype=float)\n",
    "    validation_exp_results[epoch]['val_ppl'] = np.mean(validation_exp_results[epoch]['val_ppl'], dtype=float)\n",
    "validation_exp_results = pd.DataFrame(validation_exp_results).T\n",
    "validation_exp_results"
   ]
  },
  {
   "cell_type": "code",
   "execution_count": null,
   "metadata": {
    "collapsed": true,
    "jupyter": {
     "outputs_hidden": true
    }
   },
   "outputs": [],
   "source": [
    "validation_exp_results.exp_biases = validation_exp_results.exp_biases.astype(float)\n",
    "validation_exp_results.val_ppl = validation_exp_results.val_ppl.astype(float)\n",
    "\n",
    "fig, ax1 = plt.subplots(figsize=(12, 6))\n",
    "ax2 = plt.twinx()\n",
    "\n",
    "\n",
    "sns.lineplot(data=validation_exp_results.exp_biases, color='g', ax=ax1)\n",
    "sns.lineplot(data=validation_exp_results.val_ppl, color='b', ax=ax2)\n",
    "\n",
    "plt.title('Epochs vs Validation PPL vs Exposure Bias')\n",
    "ax1.set_xlabel('Epochs')\n",
    "ax1.set_ylabel('Exposure Bias')\n",
    "ax2.set_ylabel('Validation PPL')\n",
    "\n",
    "fig.legend(['val_ppl', 'exp_biases'])\n"
   ]
  },
  {
   "cell_type": "markdown",
   "metadata": {},
   "source": [
    "# Model Size Experiments"
   ]
  },
  {
   "cell_type": "code",
   "execution_count": null,
   "metadata": {
    "collapsed": true,
    "jupyter": {
     "outputs_hidden": true
    }
   },
   "outputs": [],
   "source": []
  },
  {
   "cell_type": "markdown",
   "metadata": {},
   "source": [
    "# Beam Search Experiments"
   ]
  },
  {
   "cell_type": "code",
   "execution_count": null,
   "metadata": {
    "collapsed": true,
    "jupyter": {
     "outputs_hidden": true
    }
   },
   "outputs": [],
   "source": []
  }
 ],
 "metadata": {
  "file_extension": ".py",
  "kernelspec": {
   "display_name": "Python 3",
   "language": "python",
   "name": "python3"
  },
  "language_info": {
   "codemirror_mode": {
    "name": "ipython",
    "version": 3
   },
   "file_extension": ".py",
   "mimetype": "text/x-python",
   "name": "python",
   "nbconvert_exporter": "python",
   "pygments_lexer": "ipython3",
   "version": "3.6.3"
  },
  "mimetype": "text/x-python",
  "name": "python",
  "npconvert_exporter": "python",
  "pygments_lexer": "ipython3",
  "version": 3
 },
 "nbformat": 4,
 "nbformat_minor": 4
}
