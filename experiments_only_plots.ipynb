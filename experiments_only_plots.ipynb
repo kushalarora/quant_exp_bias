{
 "cells": [
  {
   "cell_type": "code",
   "execution_count": 302,
   "metadata": {
    "collapsed": true
   },
   "outputs": [
    {
     "name": "stdout",
     "output_type": "stream",
     "text": [
      "Requirement already satisfied: seaborn==0.9.0 in /home/kushalarora/anaconda3/envs/quant_exp/lib/python3.7/site-packages (0.9.0)\n",
      "Requirement already satisfied: pandas>=0.15.2 in /home/kushalarora/anaconda3/envs/quant_exp/lib/python3.7/site-packages (from seaborn==0.9.0) (0.25.1)\n",
      "Requirement already satisfied: matplotlib>=1.4.3 in /home/kushalarora/anaconda3/envs/quant_exp/lib/python3.7/site-packages (from seaborn==0.9.0) (3.1.1)\n",
      "Requirement already satisfied: scipy>=0.14.0 in /home/kushalarora/anaconda3/envs/quant_exp/lib/python3.7/site-packages (from seaborn==0.9.0) (1.3.1)\n",
      "Requirement already satisfied: numpy>=1.9.3 in /home/kushalarora/anaconda3/envs/quant_exp/lib/python3.7/site-packages (from seaborn==0.9.0) (1.16.5)\n",
      "Requirement already satisfied: python-dateutil>=2.6.1 in /home/kushalarora/anaconda3/envs/quant_exp/lib/python3.7/site-packages (from pandas>=0.15.2->seaborn==0.9.0) (2.8.0)\n",
      "Requirement already satisfied: pytz>=2017.2 in /home/kushalarora/anaconda3/envs/quant_exp/lib/python3.7/site-packages (from pandas>=0.15.2->seaborn==0.9.0) (2019.3)\n",
      "Requirement already satisfied: cycler>=0.10 in /home/kushalarora/anaconda3/envs/quant_exp/lib/python3.7/site-packages (from matplotlib>=1.4.3->seaborn==0.9.0) (0.10.0)\n",
      "Requirement already satisfied: kiwisolver>=1.0.1 in /home/kushalarora/anaconda3/envs/quant_exp/lib/python3.7/site-packages (from matplotlib>=1.4.3->seaborn==0.9.0) (1.1.0)\n",
      "Requirement already satisfied: pyparsing!=2.0.4,!=2.1.2,!=2.1.6,>=2.0.1 in /home/kushalarora/anaconda3/envs/quant_exp/lib/python3.7/site-packages (from matplotlib>=1.4.3->seaborn==0.9.0) (2.4.2)\n",
      "Requirement already satisfied: six>=1.5 in /home/kushalarora/anaconda3/envs/quant_exp/lib/python3.7/site-packages (from python-dateutil>=2.6.1->pandas>=0.15.2->seaborn==0.9.0) (1.12.0)\n",
      "Requirement already satisfied: setuptools in /home/kushalarora/anaconda3/envs/quant_exp/lib/python3.7/site-packages (from kiwisolver>=1.0.1->matplotlib>=1.4.3->seaborn==0.9.0) (41.0.1)\n",
      "Requirement already satisfied: matplotlib in /home/kushalarora/anaconda3/envs/quant_exp/lib/python3.7/site-packages (3.1.1)\n",
      "Requirement already satisfied: cycler>=0.10 in /home/kushalarora/anaconda3/envs/quant_exp/lib/python3.7/site-packages (from matplotlib) (0.10.0)\n",
      "Requirement already satisfied: kiwisolver>=1.0.1 in /home/kushalarora/anaconda3/envs/quant_exp/lib/python3.7/site-packages (from matplotlib) (1.1.0)\n",
      "Requirement already satisfied: pyparsing!=2.0.4,!=2.1.2,!=2.1.6,>=2.0.1 in /home/kushalarora/anaconda3/envs/quant_exp/lib/python3.7/site-packages (from matplotlib) (2.4.2)\n",
      "Requirement already satisfied: python-dateutil>=2.1 in /home/kushalarora/anaconda3/envs/quant_exp/lib/python3.7/site-packages (from matplotlib) (2.8.0)\n",
      "Requirement already satisfied: numpy>=1.11 in /home/kushalarora/anaconda3/envs/quant_exp/lib/python3.7/site-packages (from matplotlib) (1.16.5)\n",
      "Requirement already satisfied: six in /home/kushalarora/anaconda3/envs/quant_exp/lib/python3.7/site-packages (from cycler>=0.10->matplotlib) (1.12.0)\n",
      "Requirement already satisfied: setuptools in /home/kushalarora/anaconda3/envs/quant_exp/lib/python3.7/site-packages (from kiwisolver>=1.0.1->matplotlib) (41.0.1)\n",
      "Requirement already satisfied: numpy in /home/kushalarora/anaconda3/envs/quant_exp/lib/python3.7/site-packages (1.16.5)\n"
     ]
    }
   ],
   "source": [
    "!pip install seaborn==0.9.0\n",
    "!pip install matplotlib\n",
    "!pip install numpy"
   ]
  },
  {
   "cell_type": "code",
   "execution_count": 303,
   "metadata": {
    "scrolled": false
   },
   "outputs": [
    {
     "name": "stdout",
     "output_type": "stream",
     "text": [
      "The autoreload extension is already loaded. To reload it, use:\n",
      "  %reload_ext autoreload\n"
     ]
    }
   ],
   "source": [
    "%load_ext autoreload\n",
    "%autoreload 2\n",
    "\n",
    "import os\n",
    "import sys\n",
    "import pandas as pd\n",
    "import seaborn as sns\n",
    "import numpy as np\n",
    "import json\n",
    "\n",
    "from matplotlib import pyplot as plt\n",
    "\n",
    "%matplotlib inline"
   ]
  },
  {
   "cell_type": "markdown",
   "metadata": {},
   "source": [
    "# Dataset Experiments"
   ]
  },
  {
   "cell_type": "code",
   "execution_count": 304,
   "metadata": {
    "jupyter": {
     "outputs_hidden": true
    },
    "scrolled": false
   },
   "outputs": [
    {
     "name": "stdout",
     "output_type": "stream",
     "text": [
      "160\n"
     ]
    }
   ],
   "source": [
    "result_path = 'results/artificial_grammar/10_12_2019_20_59_02/dataset_experiments.json'\n",
    "result_path = 'results/artificial_grammar/10_13_2019_03_23_18/dataset_experiments.json'\n",
    "dataset_exp_results = json.load(open(result_path))\n",
    "max_lens = 0\n",
    "for num_samples in dataset_exp_results:\n",
    "    arr = dataset_exp_results[num_samples]\n",
    "    if max_lens < len(dataset_exp_results[num_samples]):\n",
    "        max_lens = len(dataset_exp_results[num_samples])\n",
    "print(max_lens)\n",
    "for num_samples in dataset_exp_results:\n",
    "    arr = dataset_exp_results[num_samples]\n",
    "    padding = [None] * (max_lens - len(arr))\n",
    "    dataset_exp_results[num_samples] = np.array(dataset_exp_results[num_samples] + padding)\n",
    "dataset_exp_results = pd.DataFrame(dataset_exp_results)\n"
   ]
  },
  {
   "cell_type": "code",
   "execution_count": 305,
   "metadata": {
    "jupyter": {
     "outputs_hidden": true
    }
   },
   "outputs": [
    {
     "data": {
      "text/plain": [
       "(0, 1)"
      ]
     },
     "execution_count": 305,
     "metadata": {},
     "output_type": "execute_result"
    },
    {
     "data": {
      "image/png": "[encoded data removed]",
      "text/plain": [
       "<Figure size 864x432 with 1 Axes>"
      ]
     },
     "metadata": {
      "needs_background": "light"
     },
     "output_type": "display_data"
    }
   ],
   "source": [
    "%matplotlib inline\n",
    "fig, ax1 = plt.subplots(figsize=(12, 6))\n",
    "\n",
    "sns.barplot(data=dataset_exp_results, ax=ax1)\n",
    "\n",
    "plt.title('Dataset Size vs Exposure Bias')\n",
    "ax1.set_xlabel('Dataset Size')\n",
    "ax1.set_ylabel('Exposure Bias')\n",
    "ax1.set_ylim(0, 1)\n",
    "\n",
    "\n"
   ]
  },
  {
   "cell_type": "markdown",
   "metadata": {},
   "source": [
    "# Validation Experiments"
   ]
  },
  {
   "cell_type": "code",
   "execution_count": 369,
   "metadata": {
    "collapsed": true,
    "jupyter": {
     "outputs_hidden": true
    }
   },
   "outputs": [
    {
     "data": {
      "text/html": [
       "<div>\n",
       "<style scoped>\n",
       "    .dataframe tbody tr th:only-of-type {\n",
       "        vertical-align: middle;\n",
       "    }\n",
       "\n",
       "    .dataframe tbody tr th {\n",
       "        vertical-align: top;\n",
       "    }\n",
       "\n",
       "    .dataframe thead th {\n",
       "        text-align: right;\n",
       "    }\n",
       "</style>\n",
       "<table border=\"1\" class=\"dataframe\">\n",
       "  <thead>\n",
       "    <tr style=\"text-align: right;\">\n",
       "      <th></th>\n",
       "      <th>0</th>\n",
       "    </tr>\n",
       "  </thead>\n",
       "  <tbody>\n",
       "    <tr>\n",
       "      <td>0</td>\n",
       "      <td>2.967610</td>\n",
       "    </tr>\n",
       "    <tr>\n",
       "      <td>1</td>\n",
       "      <td>2.955484</td>\n",
       "    </tr>\n",
       "    <tr>\n",
       "      <td>2</td>\n",
       "      <td>2.950575</td>\n",
       "    </tr>\n",
       "    <tr>\n",
       "      <td>3</td>\n",
       "      <td>2.947707</td>\n",
       "    </tr>\n",
       "    <tr>\n",
       "      <td>4</td>\n",
       "      <td>2.946920</td>\n",
       "    </tr>\n",
       "    <tr>\n",
       "      <td>5</td>\n",
       "      <td>2.945601</td>\n",
       "    </tr>\n",
       "    <tr>\n",
       "      <td>6</td>\n",
       "      <td>2.945073</td>\n",
       "    </tr>\n",
       "    <tr>\n",
       "      <td>7</td>\n",
       "      <td>2.941449</td>\n",
       "    </tr>\n",
       "    <tr>\n",
       "      <td>8</td>\n",
       "      <td>2.937429</td>\n",
       "    </tr>\n",
       "    <tr>\n",
       "      <td>9</td>\n",
       "      <td>2.948125</td>\n",
       "    </tr>\n",
       "    <tr>\n",
       "      <td>10</td>\n",
       "      <td>2.957580</td>\n",
       "    </tr>\n",
       "    <tr>\n",
       "      <td>11</td>\n",
       "      <td>2.958511</td>\n",
       "    </tr>\n",
       "    <tr>\n",
       "      <td>12</td>\n",
       "      <td>2.958512</td>\n",
       "    </tr>\n",
       "    <tr>\n",
       "      <td>13</td>\n",
       "      <td>2.957383</td>\n",
       "    </tr>\n",
       "    <tr>\n",
       "      <td>14</td>\n",
       "      <td>2.892291</td>\n",
       "    </tr>\n",
       "  </tbody>\n",
       "</table>\n",
       "</div>"
      ],
      "text/plain": [
       "           0\n",
       "0   2.967610\n",
       "1   2.955484\n",
       "2   2.950575\n",
       "3   2.947707\n",
       "4   2.946920\n",
       "5   2.945601\n",
       "6   2.945073\n",
       "7   2.941449\n",
       "8   2.937429\n",
       "9   2.948125\n",
       "10  2.957580\n",
       "11  2.958511\n",
       "12  2.958512\n",
       "13  2.957383\n",
       "14  2.892291"
      ]
     },
     "execution_count": 369,
     "metadata": {},
     "output_type": "execute_result"
    }
   ],
   "source": [
    "#result_file = 'results/artificial_grammar/10_12_2019_22_07_56/validation_experiments.json'\n",
    "result_file = 'results/artificial_grammar/10_12_2019_21_00_22/validation_experiments.json'\n",
    "validation_exp_results = json.load(open(result_file))\n",
    "\n",
    "# val_ppl_max_len = 0\n",
    "# for epoch in validation_exp_results:\n",
    "#     arr = validation_exp_results[epoch]['val_ppl']\n",
    "#     if val_ppl_max_len < len(arr):\n",
    "#         val_ppl_max_len = len(arr)\n",
    "\n",
    "# for epoch in validation_exp_results:\n",
    "#     arr = validation_exp_results[epoch]['val_ppl']\n",
    "#     padding = [None] * (val_ppl_max_len - len(arr))\n",
    "#     validation_exp_results[epoch]['val_ppl'] = np.array(validation_exp_results[epoch]['val_ppl'] + padding)\n",
    "\n",
    "# exp_bias_max_len = 0\n",
    "# for epoch in validation_exp_results:\n",
    "#     arr = validation_exp_results[epoch]['exp_biases']\n",
    "#     if exp_bias_max_len < len(arr):\n",
    "#         exp_bias_max_len = len(arr)\n",
    "    \n",
    "# for epoch in validation_exp_results:\n",
    "#     arr = validation_exp_results[epoch]['exp_biases']\n",
    "#     padding = [None] * (exp_bias_max_len - len(arr))\n",
    "#     validation_exp_results[epoch]['exp_biases'] = np.array(validation_exp_results[epoch]['exp_biases'] + padding)\n",
    "\n",
    "\n",
    "for epoch in validation_exp_results:\n",
    "    validation_exp_results[epoch]['exp_biases'] = np.array(validation_exp_results[epoch]['exp_biases'], dtype=float)\n",
    "    validation_exp_results[epoch]['val_ppl'] = np.array(validation_exp_results[epoch]['val_ppl'], dtype=float)\n",
    "    validation_exp_results[epoch]['exp_mean'] = np.mean(validation_exp_results[epoch]['exp_biases'], dtype=float)\n",
    "    validation_exp_results[epoch]['exp_std'] = np.std(validation_exp_results[epoch]['exp_biases'], dtype=float)\n",
    "    validation_exp_results[epoch]['val_ppl_mean'] = np.mean(validation_exp_results[epoch]['val_ppl'], dtype=float)\n",
    "    validation_exp_results[epoch]['val_ppl_std'] = np.std(validation_exp_results[epoch]['val_ppl'], dtype=float)\n",
    "\n",
    "validation_exp_results = pd.DataFrame(validation_exp_results).T\n",
    "validation_exp_results = validation_exp_results[:10]\n",
    "validation_exp_results['exp_mean'] = validation_exp_results['exp_mean'].astype(float)\n",
    "validation_exp_results['val_ppl_mean'] = validation_exp_results['val_ppl_mean'].astype(float)\n",
    "\n",
    "# exp_biases = {}\n",
    "# for key in validation_exp_results:\n",
    "#     exp_biases[key] = validation_exp_results[key]['exp_biases']\n",
    "\n",
    "# exp_biases_pd = pd.DataFrame(exp_biases)\n",
    "\n",
    "# val_ppl = {}\n",
    "# for key in validation_exp_results:\n",
    "#     val_ppl[key] = np.mean(validation_exp_results[key]['val_ppl'])\n",
    "# print(val_ppl)\n",
    "# val_ppl_pd = pd.DataFrame(val_ppl, index=[0]).T\n",
    "\n",
    "# exp_biases_pd.mean()\n",
    "val_ppl_pd"
   ]
  },
  {
   "cell_type": "code",
   "execution_count": 370,
   "metadata": {
    "jupyter": {
     "outputs_hidden": true
    },
    "scrolled": false
   },
   "outputs": [
    {
     "name": "stderr",
     "output_type": "stream",
     "text": [
      "2019-10-13 15:44:28,075 - INFO - matplotlib.category - Using categorical units to plot a list of strings that are all parsable as floats or dates. If these strings should be plotted as numbers, cast to the appropriate data type before plotting.\n",
      "2019-10-13 15:44:28,076 - INFO - matplotlib.category - Using categorical units to plot a list of strings that are all parsable as floats or dates. If these strings should be plotted as numbers, cast to the appropriate data type before plotting.\n",
      "2019-10-13 15:44:28,084 - INFO - matplotlib.category - Using categorical units to plot a list of strings that are all parsable as floats or dates. If these strings should be plotted as numbers, cast to the appropriate data type before plotting.\n",
      "2019-10-13 15:44:28,085 - INFO - matplotlib.category - Using categorical units to plot a list of strings that are all parsable as floats or dates. If these strings should be plotted as numbers, cast to the appropriate data type before plotting.\n"
     ]
    },
    {
     "data": {
      "text/plain": [
       "<matplotlib.legend.Legend at 0x7fb3540dbcf8>"
      ]
     },
     "execution_count": 370,
     "metadata": {},
     "output_type": "execute_result"
    },
    {
     "data": {
      "image/png": "[encoded data removed]",
      "text/plain": [
       "<Figure size 864x432 with 2 Axes>"
      ]
     },
     "metadata": {
      "needs_background": "light"
     },
     "output_type": "display_data"
    }
   ],
   "source": [
    "fig = plt.figure(figsize=(12, 6))\n",
    "ax1 = fig.add_subplot(111, label='exposure bias')\n",
    "\n",
    "plt.title('Epochs vs Validation PPL vs Exposure Bias')\n",
    "ax1.set_xlabel('Epochs')\n",
    "#sns.boxplot(data=exp_biases_pd, ax=ax1)\n",
    "#sns.lineplot(data=exp_biases_pd.T, ax=ax1, color='b', err_style='band')\n",
    "#sns.lineplot(data=validation_exp_results.exp_mean, ax=ax1, err_kws={'exp_mean': validation_exp_results.exp_std})\n",
    "ax1.errorbar(x=validation_exp_results.index, y=validation_exp_results.exp_mean, color='g')\n",
    "\n",
    "ax1.set_ylabel('Exposure Bias')\n",
    "#ax1.set_ylim(0.2,0.6)\n",
    "ax2 = ax1.twinx()\n",
    "ax2.errorbar(x=validation_exp_results.index, y=validation_exp_results.val_ppl_mean, color='r')\n",
    "#sns.boxplot(data=val_ppl_pd, ax=ax2, palette='RdBu')\n",
    "#sns.lineplot(data=val_ppl_pd, ax=ax2, color='g')\n",
    "#sns.lineplot(data=validation_exp_results.val_ppl_mean, ax=ax2, color='g', err_style=\"bars\", err_kws={'val_ppl': validation_exp_results.val_ppl_std})\n",
    "\n",
    "ax2.set_ylabel('Validation PPL')\n",
    "ax2.yaxis.set_label_position('right')\n",
    "\n",
    "\n",
    "fig.legend(['val_ppl', 'exp_biases'])\n",
    "#ax2.set_ylim(2.8,3.2)\n"
   ]
  },
  {
   "cell_type": "markdown",
   "metadata": {},
   "source": [
    "# Model Size Experiments"
   ]
  },
  {
   "cell_type": "code",
   "execution_count": null,
   "metadata": {
    "jupyter": {
     "outputs_hidden": true
    },
    "scrolled": false
   },
   "outputs": [],
   "source": []
  },
  {
   "cell_type": "markdown",
   "metadata": {},
   "source": [
    "# Beam Search Experiments"
   ]
  },
  {
   "cell_type": "code",
   "execution_count": null,
   "metadata": {
    "jupyter": {
     "outputs_hidden": true
    },
    "scrolled": false
   },
   "outputs": [],
   "source": []
  },
  {
   "cell_type": "code",
   "execution_count": null,
   "metadata": {
    "scrolled": true
   },
   "outputs": [],
   "source": []
  }
 ],
 "metadata": {
  "file_extension": ".py",
  "kernelspec": {
   "display_name": "Python 3",
   "language": "python",
   "name": "python3"
  },
  "language_info": {
   "codemirror_mode": {
    "name": "ipython",
    "version": 3
   },
   "file_extension": ".py",
   "mimetype": "text/x-python",
   "name": "python",
   "nbconvert_exporter": "python",
   "pygments_lexer": "ipython3",
   "version": "3.7.0"
  },
  "mimetype": "text/x-python",
  "name": "python",
  "npconvert_exporter": "python",
  "pygments_lexer": "ipython3",
  "version": 3
 },
 "nbformat": 4,
 "nbformat_minor": 4
}
