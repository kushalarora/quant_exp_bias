{
 "cells": [
  {
   "cell_type": "code",
   "execution_count": 1,
   "metadata": {
    "scrolled": false
   },
   "outputs": [
    {
     "name": "stdout",
     "output_type": "stream",
     "text": [
      "Requirement already satisfied: seaborn==0.9.0 in /home/kushalarora/anaconda3/envs/quant_exp/lib/python3.7/site-packages (0.9.0)\n",
      "Requirement already satisfied: pandas>=0.15.2 in /home/kushalarora/anaconda3/envs/quant_exp/lib/python3.7/site-packages (from seaborn==0.9.0) (0.25.1)\n",
      "Requirement already satisfied: numpy>=1.9.3 in /home/kushalarora/anaconda3/envs/quant_exp/lib/python3.7/site-packages (from seaborn==0.9.0) (1.16.5)\n",
      "Requirement already satisfied: matplotlib>=1.4.3 in /home/kushalarora/anaconda3/envs/quant_exp/lib/python3.7/site-packages (from seaborn==0.9.0) (3.1.1)\n",
      "Requirement already satisfied: scipy>=0.14.0 in /home/kushalarora/anaconda3/envs/quant_exp/lib/python3.7/site-packages (from seaborn==0.9.0) (1.3.1)\n",
      "Requirement already satisfied: pytz>=2017.2 in /home/kushalarora/anaconda3/envs/quant_exp/lib/python3.7/site-packages (from pandas>=0.15.2->seaborn==0.9.0) (2019.3)\n",
      "Requirement already satisfied: python-dateutil>=2.6.1 in /home/kushalarora/anaconda3/envs/quant_exp/lib/python3.7/site-packages (from pandas>=0.15.2->seaborn==0.9.0) (2.8.0)\n",
      "Requirement already satisfied: cycler>=0.10 in /home/kushalarora/anaconda3/envs/quant_exp/lib/python3.7/site-packages (from matplotlib>=1.4.3->seaborn==0.9.0) (0.10.0)\n",
      "Requirement already satisfied: kiwisolver>=1.0.1 in /home/kushalarora/anaconda3/envs/quant_exp/lib/python3.7/site-packages (from matplotlib>=1.4.3->seaborn==0.9.0) (1.1.0)\n",
      "Requirement already satisfied: pyparsing!=2.0.4,!=2.1.2,!=2.1.6,>=2.0.1 in /home/kushalarora/anaconda3/envs/quant_exp/lib/python3.7/site-packages (from matplotlib>=1.4.3->seaborn==0.9.0) (2.4.2)\n",
      "Requirement already satisfied: six>=1.5 in /home/kushalarora/anaconda3/envs/quant_exp/lib/python3.7/site-packages (from python-dateutil>=2.6.1->pandas>=0.15.2->seaborn==0.9.0) (1.12.0)\n",
      "Requirement already satisfied: setuptools in /home/kushalarora/anaconda3/envs/quant_exp/lib/python3.7/site-packages (from kiwisolver>=1.0.1->matplotlib>=1.4.3->seaborn==0.9.0) (41.0.1)\n",
      "Requirement already satisfied: allennlp==0.8.5 in /home/kushalarora/anaconda3/envs/quant_exp/lib/python3.7/site-packages (0.8.5)\n",
      "Requirement already satisfied: gevent>=1.3.6 in /home/kushalarora/anaconda3/envs/quant_exp/lib/python3.7/site-packages (from allennlp==0.8.5) (1.4.0)\n",
      "Requirement already satisfied: conllu==1.3.1 in /home/kushalarora/anaconda3/envs/quant_exp/lib/python3.7/site-packages (from allennlp==0.8.5) (1.3.1)\n",
      "Requirement already satisfied: matplotlib>=2.2.3 in /home/kushalarora/anaconda3/envs/quant_exp/lib/python3.7/site-packages (from allennlp==0.8.5) (3.1.1)\n",
      "Requirement already satisfied: pytz>=2017.3 in /home/kushalarora/anaconda3/envs/quant_exp/lib/python3.7/site-packages (from allennlp==0.8.5) (2019.3)\n",
      "Requirement already satisfied: flask>=1.0.2 in /home/kushalarora/anaconda3/envs/quant_exp/lib/python3.7/site-packages (from allennlp==0.8.5) (1.1.1)\n",
      "Requirement already satisfied: flaky in /home/kushalarora/anaconda3/envs/quant_exp/lib/python3.7/site-packages (from allennlp==0.8.5) (3.6.1)\n",
      "Requirement already satisfied: pytorch-transformers==1.1.0 in /home/kushalarora/anaconda3/envs/quant_exp/lib/python3.7/site-packages (from allennlp==0.8.5) (1.1.0)\n",
      "Requirement already satisfied: spacy<2.2,>=2.1.0 in /home/kushalarora/anaconda3/envs/quant_exp/lib/python3.7/site-packages (from allennlp==0.8.5) (2.1.8)\n",
      "Requirement already satisfied: numpy in /home/kushalarora/anaconda3/envs/quant_exp/lib/python3.7/site-packages (from allennlp==0.8.5) (1.16.5)\n",
      "Requirement already satisfied: pytorch-pretrained-bert>=0.6.0 in /home/kushalarora/anaconda3/envs/quant_exp/lib/python3.7/site-packages (from allennlp==0.8.5) (0.6.2)\n",
      "Requirement already satisfied: requests>=2.18 in /home/kushalarora/anaconda3/envs/quant_exp/lib/python3.7/site-packages (from allennlp==0.8.5) (2.22.0)\n",
      "Requirement already satisfied: flask-cors>=3.0.7 in /home/kushalarora/anaconda3/envs/quant_exp/lib/python3.7/site-packages (from allennlp==0.8.5) (3.0.8)\n",
      "Requirement already satisfied: unidecode in /home/kushalarora/anaconda3/envs/quant_exp/lib/python3.7/site-packages (from allennlp==0.8.5) (1.1.1)\n",
      "Requirement already satisfied: torch<1.2,>=0.4.1 in /home/kushalarora/anaconda3/envs/quant_exp/lib/python3.7/site-packages (from allennlp==0.8.5) (1.1.0)\n",
      "Requirement already satisfied: h5py in /home/kushalarora/anaconda3/envs/quant_exp/lib/python3.7/site-packages (from allennlp==0.8.5) (2.10.0)\n",
      "Requirement already satisfied: word2number>=1.1 in /home/kushalarora/anaconda3/envs/quant_exp/lib/python3.7/site-packages (from allennlp==0.8.5) (1.1)\n",
      "Requirement already satisfied: tensorboardX>=1.2 in /home/kushalarora/anaconda3/envs/quant_exp/lib/python3.7/site-packages (from allennlp==0.8.5) (1.8)\n",
      "Requirement already satisfied: pytest in /home/kushalarora/anaconda3/envs/quant_exp/lib/python3.7/site-packages (from allennlp==0.8.5) (5.1.2)\n",
      "Requirement already satisfied: editdistance in /home/kushalarora/anaconda3/envs/quant_exp/lib/python3.7/site-packages (from allennlp==0.8.5) (0.5.3)\n",
      "Requirement already satisfied: responses>=0.7 in /home/kushalarora/anaconda3/envs/quant_exp/lib/python3.7/site-packages (from allennlp==0.8.5) (0.10.6)\n",
      "Requirement already satisfied: overrides in /home/kushalarora/anaconda3/envs/quant_exp/lib/python3.7/site-packages (from allennlp==0.8.5) (1.9)\n",
      "Requirement already satisfied: parsimonious>=0.8.0 in /home/kushalarora/anaconda3/envs/quant_exp/lib/python3.7/site-packages (from allennlp==0.8.5) (0.8.1)\n",
      "Requirement already satisfied: numpydoc>=0.8.0 in /home/kushalarora/anaconda3/envs/quant_exp/lib/python3.7/site-packages (from allennlp==0.8.5) (0.9.1)\n",
      "Requirement already satisfied: tqdm>=4.19 in /home/kushalarora/anaconda3/envs/quant_exp/lib/python3.7/site-packages (from allennlp==0.8.5) (4.35.0)\n",
      "Requirement already satisfied: sqlparse>=0.2.4 in /home/kushalarora/anaconda3/envs/quant_exp/lib/python3.7/site-packages (from allennlp==0.8.5) (0.3.0)\n",
      "Requirement already satisfied: boto3 in /home/kushalarora/anaconda3/envs/quant_exp/lib/python3.7/site-packages (from allennlp==0.8.5) (1.9.228)\n",
      "Requirement already satisfied: jsonpickle in /home/kushalarora/anaconda3/envs/quant_exp/lib/python3.7/site-packages (from allennlp==0.8.5) (1.2)\n",
      "Requirement already satisfied: scikit-learn in /home/kushalarora/anaconda3/envs/quant_exp/lib/python3.7/site-packages (from allennlp==0.8.5) (0.21.3)\n",
      "Requirement already satisfied: ftfy in /home/kushalarora/anaconda3/envs/quant_exp/lib/python3.7/site-packages (from allennlp==0.8.5) (5.6)\n",
      "Requirement already satisfied: nltk in /home/kushalarora/anaconda3/envs/quant_exp/lib/python3.7/site-packages (from allennlp==0.8.5) (3.4.5)\n",
      "Requirement already satisfied: scipy in /home/kushalarora/anaconda3/envs/quant_exp/lib/python3.7/site-packages (from allennlp==0.8.5) (1.3.1)\n",
      "Requirement already satisfied: jsonnet>=0.10.0; sys_platform != \"win32\" in /home/kushalarora/anaconda3/envs/quant_exp/lib/python3.7/site-packages (from allennlp==0.8.5) (0.13.0)\n",
      "Requirement already satisfied: greenlet>=0.4.14; platform_python_implementation == \"CPython\" in /home/kushalarora/anaconda3/envs/quant_exp/lib/python3.7/site-packages (from gevent>=1.3.6->allennlp==0.8.5) (0.4.15)\n",
      "Requirement already satisfied: cycler>=0.10 in /home/kushalarora/anaconda3/envs/quant_exp/lib/python3.7/site-packages (from matplotlib>=2.2.3->allennlp==0.8.5) (0.10.0)\n",
      "Requirement already satisfied: kiwisolver>=1.0.1 in /home/kushalarora/anaconda3/envs/quant_exp/lib/python3.7/site-packages (from matplotlib>=2.2.3->allennlp==0.8.5) (1.1.0)\n",
      "Requirement already satisfied: pyparsing!=2.0.4,!=2.1.2,!=2.1.6,>=2.0.1 in /home/kushalarora/anaconda3/envs/quant_exp/lib/python3.7/site-packages (from matplotlib>=2.2.3->allennlp==0.8.5) (2.4.2)\n",
      "Requirement already satisfied: python-dateutil>=2.1 in /home/kushalarora/anaconda3/envs/quant_exp/lib/python3.7/site-packages (from matplotlib>=2.2.3->allennlp==0.8.5) (2.8.0)\n",
      "Requirement already satisfied: click>=5.1 in /home/kushalarora/anaconda3/envs/quant_exp/lib/python3.7/site-packages (from flask>=1.0.2->allennlp==0.8.5) (7.0)\n",
      "Requirement already satisfied: Werkzeug>=0.15 in /home/kushalarora/anaconda3/envs/quant_exp/lib/python3.7/site-packages (from flask>=1.0.2->allennlp==0.8.5) (0.15.6)\n",
      "Requirement already satisfied: itsdangerous>=0.24 in /home/kushalarora/anaconda3/envs/quant_exp/lib/python3.7/site-packages (from flask>=1.0.2->allennlp==0.8.5) (1.1.0)\n",
      "Requirement already satisfied: Jinja2>=2.10.1 in /home/kushalarora/anaconda3/envs/quant_exp/lib/python3.7/site-packages (from flask>=1.0.2->allennlp==0.8.5) (2.10.3)\n",
      "Requirement already satisfied: sentencepiece in /home/kushalarora/anaconda3/envs/quant_exp/lib/python3.7/site-packages (from pytorch-transformers==1.1.0->allennlp==0.8.5) (0.1.83)\n",
      "Requirement already satisfied: regex in /home/kushalarora/anaconda3/envs/quant_exp/lib/python3.7/site-packages (from pytorch-transformers==1.1.0->allennlp==0.8.5) (2019.8.19)\n",
      "Requirement already satisfied: plac<1.0.0,>=0.9.6 in /home/kushalarora/anaconda3/envs/quant_exp/lib/python3.7/site-packages (from spacy<2.2,>=2.1.0->allennlp==0.8.5) (0.9.6)\n"
     ]
    },
    {
     "name": "stdout",
     "output_type": "stream",
     "text": [
      "Requirement already satisfied: murmurhash<1.1.0,>=0.28.0 in /home/kushalarora/anaconda3/envs/quant_exp/lib/python3.7/site-packages (from spacy<2.2,>=2.1.0->allennlp==0.8.5) (1.0.2)\n",
      "Requirement already satisfied: wasabi<1.1.0,>=0.2.0 in /home/kushalarora/anaconda3/envs/quant_exp/lib/python3.7/site-packages (from spacy<2.2,>=2.1.0->allennlp==0.8.5) (0.2.2)\n",
      "Requirement already satisfied: blis<0.3.0,>=0.2.2 in /home/kushalarora/anaconda3/envs/quant_exp/lib/python3.7/site-packages (from spacy<2.2,>=2.1.0->allennlp==0.8.5) (0.2.4)\n",
      "Requirement already satisfied: cymem<2.1.0,>=2.0.2 in /home/kushalarora/anaconda3/envs/quant_exp/lib/python3.7/site-packages (from spacy<2.2,>=2.1.0->allennlp==0.8.5) (2.0.2)\n",
      "Requirement already satisfied: srsly<1.1.0,>=0.0.6 in /home/kushalarora/anaconda3/envs/quant_exp/lib/python3.7/site-packages (from spacy<2.2,>=2.1.0->allennlp==0.8.5) (0.1.0)\n",
      "Requirement already satisfied: thinc<7.1.0,>=7.0.8 in /home/kushalarora/anaconda3/envs/quant_exp/lib/python3.7/site-packages (from spacy<2.2,>=2.1.0->allennlp==0.8.5) (7.0.8)\n",
      "Requirement already satisfied: preshed<2.1.0,>=2.0.1 in /home/kushalarora/anaconda3/envs/quant_exp/lib/python3.7/site-packages (from spacy<2.2,>=2.1.0->allennlp==0.8.5) (2.0.1)\n",
      "Requirement already satisfied: certifi>=2017.4.17 in /home/kushalarora/anaconda3/envs/quant_exp/lib/python3.7/site-packages (from requests>=2.18->allennlp==0.8.5) (2019.9.11)\n",
      "Requirement already satisfied: idna<2.9,>=2.5 in /home/kushalarora/anaconda3/envs/quant_exp/lib/python3.7/site-packages (from requests>=2.18->allennlp==0.8.5) (2.8)\n",
      "Requirement already satisfied: urllib3!=1.25.0,!=1.25.1,<1.26,>=1.21.1 in /home/kushalarora/anaconda3/envs/quant_exp/lib/python3.7/site-packages (from requests>=2.18->allennlp==0.8.5) (1.25.3)\n",
      "Requirement already satisfied: chardet<3.1.0,>=3.0.2 in /home/kushalarora/anaconda3/envs/quant_exp/lib/python3.7/site-packages (from requests>=2.18->allennlp==0.8.5) (3.0.4)\n",
      "Requirement already satisfied: Six in /home/kushalarora/anaconda3/envs/quant_exp/lib/python3.7/site-packages (from flask-cors>=3.0.7->allennlp==0.8.5) (1.12.0)\n",
      "Requirement already satisfied: protobuf>=3.2.0 in /home/kushalarora/anaconda3/envs/quant_exp/lib/python3.7/site-packages (from tensorboardX>=1.2->allennlp==0.8.5) (3.9.1)\n",
      "Requirement already satisfied: attrs>=17.4.0 in /home/kushalarora/anaconda3/envs/quant_exp/lib/python3.7/site-packages (from pytest->allennlp==0.8.5) (19.2.0)\n",
      "Requirement already satisfied: wcwidth in /home/kushalarora/anaconda3/envs/quant_exp/lib/python3.7/site-packages (from pytest->allennlp==0.8.5) (0.1.7)\n",
      "Requirement already satisfied: atomicwrites>=1.0 in /home/kushalarora/anaconda3/envs/quant_exp/lib/python3.7/site-packages (from pytest->allennlp==0.8.5) (1.3.0)\n",
      "Requirement already satisfied: py>=1.5.0 in /home/kushalarora/anaconda3/envs/quant_exp/lib/python3.7/site-packages (from pytest->allennlp==0.8.5) (1.8.0)\n",
      "Requirement already satisfied: more-itertools>=4.0.0 in /home/kushalarora/anaconda3/envs/quant_exp/lib/python3.7/site-packages (from pytest->allennlp==0.8.5) (7.2.0)\n",
      "Requirement already satisfied: pluggy<1.0,>=0.12 in /home/kushalarora/anaconda3/envs/quant_exp/lib/python3.7/site-packages (from pytest->allennlp==0.8.5) (0.13.0)\n",
      "Requirement already satisfied: importlib-metadata>=0.12; python_version < \"3.8\" in /home/kushalarora/anaconda3/envs/quant_exp/lib/python3.7/site-packages (from pytest->allennlp==0.8.5) (0.22)\n",
      "Requirement already satisfied: packaging in /home/kushalarora/anaconda3/envs/quant_exp/lib/python3.7/site-packages (from pytest->allennlp==0.8.5) (19.1)\n",
      "Requirement already satisfied: sphinx>=1.6.5 in /home/kushalarora/anaconda3/envs/quant_exp/lib/python3.7/site-packages (from numpydoc>=0.8.0->allennlp==0.8.5) (2.2.0)\n",
      "Requirement already satisfied: botocore<1.13.0,>=1.12.228 in /home/kushalarora/anaconda3/envs/quant_exp/lib/python3.7/site-packages (from boto3->allennlp==0.8.5) (1.12.228)\n",
      "Requirement already satisfied: s3transfer<0.3.0,>=0.2.0 in /home/kushalarora/anaconda3/envs/quant_exp/lib/python3.7/site-packages (from boto3->allennlp==0.8.5) (0.2.1)\n",
      "Requirement already satisfied: jmespath<1.0.0,>=0.7.1 in /home/kushalarora/anaconda3/envs/quant_exp/lib/python3.7/site-packages (from boto3->allennlp==0.8.5) (0.9.4)\n",
      "Requirement already satisfied: joblib>=0.11 in /home/kushalarora/anaconda3/envs/quant_exp/lib/python3.7/site-packages (from scikit-learn->allennlp==0.8.5) (0.13.2)\n",
      "Requirement already satisfied: setuptools in /home/kushalarora/anaconda3/envs/quant_exp/lib/python3.7/site-packages (from kiwisolver>=1.0.1->matplotlib>=2.2.3->allennlp==0.8.5) (41.0.1)\n",
      "Requirement already satisfied: MarkupSafe>=0.23 in /home/kushalarora/anaconda3/envs/quant_exp/lib/python3.7/site-packages (from Jinja2>=2.10.1->flask>=1.0.2->allennlp==0.8.5) (1.1.1)\n",
      "Requirement already satisfied: zipp>=0.5 in /home/kushalarora/anaconda3/envs/quant_exp/lib/python3.7/site-packages (from importlib-metadata>=0.12; python_version < \"3.8\"->pytest->allennlp==0.8.5) (0.6.0)\n",
      "Requirement already satisfied: sphinxcontrib-htmlhelp in /home/kushalarora/anaconda3/envs/quant_exp/lib/python3.7/site-packages (from sphinx>=1.6.5->numpydoc>=0.8.0->allennlp==0.8.5) (1.0.2)\n",
      "Requirement already satisfied: sphinxcontrib-applehelp in /home/kushalarora/anaconda3/envs/quant_exp/lib/python3.7/site-packages (from sphinx>=1.6.5->numpydoc>=0.8.0->allennlp==0.8.5) (1.0.1)\n",
      "Requirement already satisfied: babel!=2.0,>=1.3 in /home/kushalarora/anaconda3/envs/quant_exp/lib/python3.7/site-packages (from sphinx>=1.6.5->numpydoc>=0.8.0->allennlp==0.8.5) (2.7.0)\n",
      "Requirement already satisfied: sphinxcontrib-jsmath in /home/kushalarora/anaconda3/envs/quant_exp/lib/python3.7/site-packages (from sphinx>=1.6.5->numpydoc>=0.8.0->allennlp==0.8.5) (1.0.1)\n",
      "Requirement already satisfied: sphinxcontrib-serializinghtml in /home/kushalarora/anaconda3/envs/quant_exp/lib/python3.7/site-packages (from sphinx>=1.6.5->numpydoc>=0.8.0->allennlp==0.8.5) (1.1.3)\n",
      "Requirement already satisfied: Pygments>=2.0 in /home/kushalarora/anaconda3/envs/quant_exp/lib/python3.7/site-packages (from sphinx>=1.6.5->numpydoc>=0.8.0->allennlp==0.8.5) (2.4.2)\n",
      "Requirement already satisfied: sphinxcontrib-devhelp in /home/kushalarora/anaconda3/envs/quant_exp/lib/python3.7/site-packages (from sphinx>=1.6.5->numpydoc>=0.8.0->allennlp==0.8.5) (1.0.1)\n",
      "Requirement already satisfied: snowballstemmer>=1.1 in /home/kushalarora/anaconda3/envs/quant_exp/lib/python3.7/site-packages (from sphinx>=1.6.5->numpydoc>=0.8.0->allennlp==0.8.5) (1.9.1)\n",
      "Requirement already satisfied: imagesize in /home/kushalarora/anaconda3/envs/quant_exp/lib/python3.7/site-packages (from sphinx>=1.6.5->numpydoc>=0.8.0->allennlp==0.8.5) (1.1.0)\n",
      "Requirement already satisfied: alabaster<0.8,>=0.7 in /home/kushalarora/anaconda3/envs/quant_exp/lib/python3.7/site-packages (from sphinx>=1.6.5->numpydoc>=0.8.0->allennlp==0.8.5) (0.7.12)\n",
      "Requirement already satisfied: docutils>=0.12 in /home/kushalarora/anaconda3/envs/quant_exp/lib/python3.7/site-packages (from sphinx>=1.6.5->numpydoc>=0.8.0->allennlp==0.8.5) (0.15.2)\n",
      "Requirement already satisfied: sphinxcontrib-qthelp in /home/kushalarora/anaconda3/envs/quant_exp/lib/python3.7/site-packages (from sphinx>=1.6.5->numpydoc>=0.8.0->allennlp==0.8.5) (1.0.2)\n",
      "Requirement already satisfied: matplotlib in /home/kushalarora/anaconda3/envs/quant_exp/lib/python3.7/site-packages (3.1.1)\n",
      "Requirement already satisfied: cycler>=0.10 in /home/kushalarora/anaconda3/envs/quant_exp/lib/python3.7/site-packages (from matplotlib) (0.10.0)\n",
      "Requirement already satisfied: kiwisolver>=1.0.1 in /home/kushalarora/anaconda3/envs/quant_exp/lib/python3.7/site-packages (from matplotlib) (1.1.0)\n",
      "Requirement already satisfied: pyparsing!=2.0.4,!=2.1.2,!=2.1.6,>=2.0.1 in /home/kushalarora/anaconda3/envs/quant_exp/lib/python3.7/site-packages (from matplotlib) (2.4.2)\n",
      "Requirement already satisfied: python-dateutil>=2.1 in /home/kushalarora/anaconda3/envs/quant_exp/lib/python3.7/site-packages (from matplotlib) (2.8.0)\n",
      "Requirement already satisfied: numpy>=1.11 in /home/kushalarora/anaconda3/envs/quant_exp/lib/python3.7/site-packages (from matplotlib) (1.16.5)\n",
      "Requirement already satisfied: six in /home/kushalarora/anaconda3/envs/quant_exp/lib/python3.7/site-packages (from cycler>=0.10->matplotlib) (1.12.0)\n",
      "Requirement already satisfied: setuptools in /home/kushalarora/anaconda3/envs/quant_exp/lib/python3.7/site-packages (from kiwisolver>=1.0.1->matplotlib) (41.0.1)\n"
     ]
    },
    {
     "name": "stdout",
     "output_type": "stream",
     "text": [
      "Requirement already satisfied: numpy in /home/kushalarora/anaconda3/envs/quant_exp/lib/python3.7/site-packages (1.16.5)\n",
      "Requirement already satisfied: ray in /home/kushalarora/anaconda3/envs/quant_exp/lib/python3.7/site-packages (0.7.5)\n",
      "Requirement already satisfied: six>=1.0.0 in /home/kushalarora/anaconda3/envs/quant_exp/lib/python3.7/site-packages (from ray) (1.12.0)\n",
      "Requirement already satisfied: funcsigs in /home/kushalarora/anaconda3/envs/quant_exp/lib/python3.7/site-packages (from ray) (1.0.2)\n",
      "Requirement already satisfied: colorama in /home/kushalarora/anaconda3/envs/quant_exp/lib/python3.7/site-packages (from ray) (0.4.1)\n",
      "Requirement already satisfied: pytest in /home/kushalarora/anaconda3/envs/quant_exp/lib/python3.7/site-packages (from ray) (5.1.2)\n",
      "Requirement already satisfied: protobuf>=3.8.0 in /home/kushalarora/anaconda3/envs/quant_exp/lib/python3.7/site-packages (from ray) (3.9.1)\n",
      "Requirement already satisfied: numpy>=1.14 in /home/kushalarora/anaconda3/envs/quant_exp/lib/python3.7/site-packages (from ray) (1.16.5)\n",
      "Requirement already satisfied: jsonschema in /home/kushalarora/anaconda3/envs/quant_exp/lib/python3.7/site-packages (from ray) (3.0.2)\n",
      "Requirement already satisfied: click in /home/kushalarora/anaconda3/envs/quant_exp/lib/python3.7/site-packages (from ray) (7.0)\n",
      "Requirement already satisfied: filelock in /home/kushalarora/anaconda3/envs/quant_exp/lib/python3.7/site-packages (from ray) (3.0.12)\n",
      "Requirement already satisfied: pyyaml in /home/kushalarora/anaconda3/envs/quant_exp/lib/python3.7/site-packages (from ray) (5.1.2)\n",
      "Requirement already satisfied: redis>=3.3.2 in /home/kushalarora/anaconda3/envs/quant_exp/lib/python3.7/site-packages (from ray) (3.3.9)\n",
      "Requirement already satisfied: wcwidth in /home/kushalarora/anaconda3/envs/quant_exp/lib/python3.7/site-packages (from pytest->ray) (0.1.7)\n",
      "Requirement already satisfied: importlib-metadata>=0.12; python_version < \"3.8\" in /home/kushalarora/anaconda3/envs/quant_exp/lib/python3.7/site-packages (from pytest->ray) (0.22)\n",
      "Requirement already satisfied: py>=1.5.0 in /home/kushalarora/anaconda3/envs/quant_exp/lib/python3.7/site-packages (from pytest->ray) (1.8.0)\n",
      "Requirement already satisfied: packaging in /home/kushalarora/anaconda3/envs/quant_exp/lib/python3.7/site-packages (from pytest->ray) (19.1)\n",
      "Requirement already satisfied: attrs>=17.4.0 in /home/kushalarora/anaconda3/envs/quant_exp/lib/python3.7/site-packages (from pytest->ray) (19.2.0)\n",
      "Requirement already satisfied: more-itertools>=4.0.0 in /home/kushalarora/anaconda3/envs/quant_exp/lib/python3.7/site-packages (from pytest->ray) (7.2.0)\n",
      "Requirement already satisfied: pluggy<1.0,>=0.12 in /home/kushalarora/anaconda3/envs/quant_exp/lib/python3.7/site-packages (from pytest->ray) (0.13.0)\n",
      "Requirement already satisfied: atomicwrites>=1.0 in /home/kushalarora/anaconda3/envs/quant_exp/lib/python3.7/site-packages (from pytest->ray) (1.3.0)\n",
      "Requirement already satisfied: setuptools in /home/kushalarora/anaconda3/envs/quant_exp/lib/python3.7/site-packages (from protobuf>=3.8.0->ray) (41.0.1)\n",
      "Requirement already satisfied: pyrsistent>=0.14.0 in /home/kushalarora/anaconda3/envs/quant_exp/lib/python3.7/site-packages (from jsonschema->ray) (0.15.4)\n",
      "Requirement already satisfied: zipp>=0.5 in /home/kushalarora/anaconda3/envs/quant_exp/lib/python3.7/site-packages (from importlib-metadata>=0.12; python_version < \"3.8\"->pytest->ray) (0.6.0)\n",
      "Requirement already satisfied: pyparsing>=2.0.2 in /home/kushalarora/anaconda3/envs/quant_exp/lib/python3.7/site-packages (from packaging->pytest->ray) (2.4.2)\n"
     ]
    }
   ],
   "source": [
    "!pip install seaborn==0.9.0\n",
    "!pip install allennlp==0.8.5\n",
    "!pip install matplotlib\n",
    "!pip install numpy \n",
    "!pip install ray"
   ]
  },
  {
   "cell_type": "code",
   "execution_count": 14,
   "metadata": {
    "scrolled": true
   },
   "outputs": [
    {
     "name": "stdout",
     "output_type": "stream",
     "text": [
      "The autoreload extension is already loaded. To reload it, use:\n",
      "  %reload_ext autoreload\n"
     ]
    }
   ],
   "source": [
    "%load_ext autoreload\n",
    "%autoreload 2\n",
    "\n",
    "import os\n",
    "import sys\n",
    "import pandas as pd\n",
    "import seaborn as sns\n",
    "import numpy as np\n",
    "import json\n",
    "\n",
    "from matplotlib import pyplot as plt\n",
    "\n",
    "%matplotlib inline"
   ]
  },
  {
   "cell_type": "markdown",
   "metadata": {},
   "source": [
    "## Basic Setup of grammar and global variables like serialization directory and training config file"
   ]
  },
  {
   "cell_type": "code",
   "execution_count": 162,
   "metadata": {
    "scrolled": true
   },
   "outputs": [],
   "source": [
    "FSA_GRAMMAR_STRING = \"\"\"\n",
    "                        q0 -> 'S' q1 [0.9900] | 'a' q1 [0.0025] | 'b' q1 [0.0025] | 'c' q1 [0.0025] | 'E' q1 [0.0025]\n",
    "                        q1 -> 'S' q1 [0.0025] | 'a' q1 [0.3000] | 'b' q1 [0.3000] | 'c' q1 [0.3000] | 'E' q1 [0.0025]\n",
    "                        q1 -> 'S' q2 [0.0025] | 'a' q2 [0.0300] | 'b' q2 [0.0300] | 'c' q2 [0.0300] | 'E' q2 [0.0025]\n",
    "                        q2 -> 'S' [0.0025] | 'a' [0.0025] | 'b' [0.0025] | 'c' [0.0025] | 'E' [0.9900]\n",
    "                    \"\"\"\n",
    "    \n",
    "os.environ[\"FSA_GRAMMAR_STRING\"] = FSA_GRAMMAR_STRING\n",
    "os.environ['ARTIFICIAL_GRAMMAR_TRAIN'] = \"\"\n",
    "os.environ['ARTIFICIAL_GRAMMAR_DEV'] = \"\"\n",
    "\n",
    "dataset_experiments_params = [(6250,16), (12500,8) , (25000, 4), (50000,2), (100000,1)]\n",
    "\n",
    "num_sample_oracles = 10\n",
    "num_trials = 10\n",
    "num_samples_per_length=1000\n",
    "\n",
    "# Ipython by default adds some arguments to sys.argv.\n",
    "#  We don't want those arguments, hence we pass [] here.\n",
    "#\n",
    "# The deafult argument get_args is args=None. \n",
    "# This translates to parsing sys.argv. This is useful\n",
    "# in case we run the method from a python file but not here.\n",
    "# Hence, we keep the default argument as None but pass [] for \n",
    "# ipython notebook.\n",
    "main_args = get_args(args=[])\n",
    "\n",
    "serialization_dir = os.path.join(main_args.output_dir, datetime.now().strftime(\"%m_%d_%Y_%H_%M_%S\"))\n",
    "param_path = main_args.config"
   ]
  },
  {
   "cell_type": "markdown",
   "metadata": {},
   "source": [
    "# Dataset Experiments"
   ]
  },
  {
   "cell_type": "code",
   "execution_count": 163,
   "metadata": {
    "jupyter": {
     "outputs_hidden": true
    },
    "scrolled": true
   },
   "outputs": [
    {
     "name": "stdout",
     "output_type": "stream",
     "text": [
      "160\n"
     ]
    },
    {
     "data": {
      "text/html": [
       "<div>\n",
       "<style scoped>\n",
       "    .dataframe tbody tr th:only-of-type {\n",
       "        vertical-align: middle;\n",
       "    }\n",
       "\n",
       "    .dataframe tbody tr th {\n",
       "        vertical-align: top;\n",
       "    }\n",
       "\n",
       "    .dataframe thead th {\n",
       "        text-align: right;\n",
       "    }\n",
       "</style>\n",
       "<table border=\"1\" class=\"dataframe\">\n",
       "  <thead>\n",
       "    <tr style=\"text-align: right;\">\n",
       "      <th></th>\n",
       "      <th>1000</th>\n",
       "      <th>10000</th>\n",
       "      <th>25000</th>\n",
       "      <th>50000</th>\n",
       "      <th>100000</th>\n",
       "    </tr>\n",
       "  </thead>\n",
       "  <tbody>\n",
       "    <tr>\n",
       "      <td>0</td>\n",
       "      <td>0.596143</td>\n",
       "      <td>0.280215</td>\n",
       "      <td>0.249035</td>\n",
       "      <td>0.195919</td>\n",
       "      <td>0.197986</td>\n",
       "    </tr>\n",
       "    <tr>\n",
       "      <td>1</td>\n",
       "      <td>0.761331</td>\n",
       "      <td>0.324122</td>\n",
       "      <td>0.182179</td>\n",
       "      <td>0.174089</td>\n",
       "      <td>0.216501</td>\n",
       "    </tr>\n",
       "    <tr>\n",
       "      <td>2</td>\n",
       "      <td>0.935175</td>\n",
       "      <td>0.394191</td>\n",
       "      <td>0.191587</td>\n",
       "      <td>0.229833</td>\n",
       "      <td>0.211204</td>\n",
       "    </tr>\n",
       "    <tr>\n",
       "      <td>3</td>\n",
       "      <td>0.638680</td>\n",
       "      <td>0.256959</td>\n",
       "      <td>0.255487</td>\n",
       "      <td>0.165874</td>\n",
       "      <td>0.211381</td>\n",
       "    </tr>\n",
       "    <tr>\n",
       "      <td>4</td>\n",
       "      <td>0.753216</td>\n",
       "      <td>0.301083</td>\n",
       "      <td>0.2179</td>\n",
       "      <td>0.195706</td>\n",
       "      <td>0.200609</td>\n",
       "    </tr>\n",
       "    <tr>\n",
       "      <td>...</td>\n",
       "      <td>...</td>\n",
       "      <td>...</td>\n",
       "      <td>...</td>\n",
       "      <td>...</td>\n",
       "      <td>...</td>\n",
       "    </tr>\n",
       "    <tr>\n",
       "      <td>155</td>\n",
       "      <td>0.598478</td>\n",
       "      <td>None</td>\n",
       "      <td>None</td>\n",
       "      <td>None</td>\n",
       "      <td>None</td>\n",
       "    </tr>\n",
       "    <tr>\n",
       "      <td>156</td>\n",
       "      <td>0.746466</td>\n",
       "      <td>None</td>\n",
       "      <td>None</td>\n",
       "      <td>None</td>\n",
       "      <td>None</td>\n",
       "    </tr>\n",
       "    <tr>\n",
       "      <td>157</td>\n",
       "      <td>0.774046</td>\n",
       "      <td>None</td>\n",
       "      <td>None</td>\n",
       "      <td>None</td>\n",
       "      <td>None</td>\n",
       "    </tr>\n",
       "    <tr>\n",
       "      <td>158</td>\n",
       "      <td>0.709010</td>\n",
       "      <td>None</td>\n",
       "      <td>None</td>\n",
       "      <td>None</td>\n",
       "      <td>None</td>\n",
       "    </tr>\n",
       "    <tr>\n",
       "      <td>159</td>\n",
       "      <td>0.652373</td>\n",
       "      <td>None</td>\n",
       "      <td>None</td>\n",
       "      <td>None</td>\n",
       "      <td>None</td>\n",
       "    </tr>\n",
       "  </tbody>\n",
       "</table>\n",
       "<p>160 rows × 5 columns</p>\n",
       "</div>"
      ],
      "text/plain": [
       "         1000     10000     25000     50000    100000\n",
       "0    0.596143  0.280215  0.249035  0.195919  0.197986\n",
       "1    0.761331  0.324122  0.182179  0.174089  0.216501\n",
       "2    0.935175  0.394191  0.191587  0.229833  0.211204\n",
       "3    0.638680  0.256959  0.255487  0.165874  0.211381\n",
       "4    0.753216  0.301083    0.2179  0.195706  0.200609\n",
       "..        ...       ...       ...       ...       ...\n",
       "155  0.598478      None      None      None      None\n",
       "156  0.746466      None      None      None      None\n",
       "157  0.774046      None      None      None      None\n",
       "158  0.709010      None      None      None      None\n",
       "159  0.652373      None      None      None      None\n",
       "\n",
       "[160 rows x 5 columns]"
      ]
     },
     "execution_count": 163,
     "metadata": {},
     "output_type": "execute_result"
    }
   ],
   "source": [
    "dataset_exp_results = json.load(open('results/artificial_grammar/10_12_2019_20_59_02/dataset_experiments.json'))\n",
    "max_lens = 0\n",
    "for num_samples in dataset_exp_results:\n",
    "    arr = dataset_exp_results[num_samples]\n",
    "    if max_lens < len(dataset_exp_results[num_samples]):\n",
    "        max_lens = len(dataset_exp_results[num_samples])\n",
    "print(max_lens)\n",
    "for num_samples in dataset_exp_results:\n",
    "    arr = dataset_exp_results[num_samples]\n",
    "    padding = [None] * (max_lens - len(arr))\n",
    "    dataset_exp_results[num_samples] = np.array(dataset_exp_results[num_samples] + padding)\n",
    "dataset_exp_results = pd.DataFrame(dataset_exp_results)\n",
    "dataset_exp_results"
   ]
  },
  {
   "cell_type": "code",
   "execution_count": 164,
   "metadata": {
    "jupyter": {
     "outputs_hidden": true
    },
    "scrolled": false
   },
   "outputs": [
    {
     "data": {
      "text/plain": [
       "Text(0, 0.5, 'Exposure Bias')"
      ]
     },
     "execution_count": 164,
     "metadata": {},
     "output_type": "execute_result"
    },
    {
     "data": {
      "image/png": "[encoded data removed]",
      "text/plain": [
       "<Figure size 864x432 with 1 Axes>"
      ]
     },
     "metadata": {
      "needs_background": "light"
     },
     "output_type": "display_data"
    }
   ],
   "source": [
    "%matplotlib inline\n",
    "fig, ax1 = plt.subplots(figsize=(12, 6))\n",
    "\n",
    "sns.barplot(data=dataset_exp_results, ax=ax1)\n",
    "\n",
    "plt.title('Dataset Size vs Exposure Bias')\n",
    "ax1.set_xlabel('Dataset Size')\n",
    "ax1.set_ylabel('Exposure Bias')\n",
    "\n"
   ]
  },
  {
   "cell_type": "markdown",
   "metadata": {},
   "source": [
    "# Validation Experiments"
   ]
  },
  {
   "cell_type": "code",
   "execution_count": 288,
   "metadata": {
    "jupyter": {
     "outputs_hidden": true
    },
    "scrolled": false
   },
   "outputs": [
    {
     "data": {
      "text/plain": [
       "0    2.967610\n",
       "1    2.955484\n",
       "2    2.950575\n",
       "3    2.947707\n",
       "4    2.946920\n",
       "5    2.945601\n",
       "6    2.945073\n",
       "7    2.941449\n",
       "8    2.937429\n",
       "9    2.948125\n",
       "Name: val_ppl_mean, dtype: float64"
      ]
     },
     "execution_count": 288,
     "metadata": {},
     "output_type": "execute_result"
    }
   ],
   "source": [
    "result_file = 'results/artificial_grammar/10_12_2019_22_07_56/validation_experiments.json'\n",
    "#result_file = 'results/artificial_grammar/10_12_2019_21_00_22/validation_experiments.json'\n",
    "validation_exp_results = json.load(open(result_file))\n",
    "\n",
    "# val_ppl_max_len = 0\n",
    "# for epoch in validation_exp_results:\n",
    "#     arr = validation_exp_results[epoch]['val_ppl']\n",
    "#     if val_ppl_max_len < len(arr):\n",
    "#         val_ppl_max_len = len(arr)\n",
    "\n",
    "# for epoch in validation_exp_results:\n",
    "#     arr = validation_exp_results[epoch]['val_ppl']\n",
    "#     padding = [None] * (val_ppl_max_len - len(arr))\n",
    "#     validation_exp_results[epoch]['val_ppl'] = np.array(validation_exp_results[epoch]['val_ppl'] + padding)\n",
    "\n",
    "# exp_bias_max_len = 0\n",
    "# for epoch in validation_exp_results:\n",
    "#     arr = validation_exp_results[epoch]['exp_biases']\n",
    "#     if exp_bias_max_len < len(arr):\n",
    "#         exp_bias_max_len = len(arr)\n",
    "    \n",
    "# for epoch in validation_exp_results:\n",
    "#     arr = validation_exp_results[epoch]['exp_biases']\n",
    "#     padding = [None] * (exp_bias_max_len - len(arr))\n",
    "#     validation_exp_results[epoch]['exp_biases'] = np.array(validation_exp_results[epoch]['exp_biases'] + padding)\n",
    "\n",
    "\n",
    "for epoch in validation_exp_results:\n",
    "    validation_exp_results[epoch]['exp_biases'] = np.array(validation_exp_results[epoch]['exp_biases'], dtype=float)\n",
    "    validation_exp_results[epoch]['val_ppl'] = np.array(validation_exp_results[epoch]['val_ppl'], dtype=float)\n",
    "    validation_exp_results[epoch]['exp_mean'] = np.mean(validation_exp_results[epoch]['exp_mean'], dtype=float)\n",
    "    validation_exp_results[epoch]['exp_std'] = np.std(validation_exp_results[epoch]['exp_std'], dtype=float)\n",
    "    validation_exp_results[epoch]['val_ppl_mean'] = np.mean(validation_exp_results[epoch]['val_ppl'], dtype=float)\n",
    "    validation_exp_results[epoch]['val_ppl_std'] = np.std(validation_exp_results[epoch]['val_ppl'], dtype=float)\n",
    "\n",
    "validation_exp_results = pd.DataFrame(validation_exp_results).T\n",
    "validation_exp_results = validation_exp_results[:10]\n",
    "validation_exp_results['exp_mean'] = validation_exp_results['exp_mean'].astype(float)\n",
    "validation_exp_results['val_ppl_mean'] = validation_exp_results['val_ppl_mean'].astype(float)\n",
    "\n",
    "# exp_biases = {}\n",
    "# for key in validation_exp_results:\n",
    "#     exp_biases[key] = validation_exp_results[key]['exp_biases']\n",
    "\n",
    "# exp_biases_pd = pd.DataFrame(exp_biases)\n",
    "\n",
    "# val_ppl = {}\n",
    "# for key in validation_exp_results:\n",
    "#     val_ppl[key] = np.mean(validation_exp_results[key]['val_ppl'])\n",
    "# print(val_ppl)\n",
    "# val_ppl_pd = pd.DataFrame(val_ppl, index=[0]).T\n",
    "\n",
    "# exp_biases_pd.mean()\n",
    "#val_ppl_pd\n",
    "validation_exp_results['val_ppl_mean']"
   ]
  },
  {
   "cell_type": "code",
   "execution_count": 289,
   "metadata": {
    "jupyter": {
     "outputs_hidden": true
    },
    "scrolled": false
   },
   "outputs": [
    {
     "name": "stderr",
     "output_type": "stream",
     "text": [
      "2019-10-13 02:28:28,003 - INFO - matplotlib.category - Using categorical units to plot a list of strings that are all parsable as floats or dates. If these strings should be plotted as numbers, cast to the appropriate data type before plotting.\n",
      "2019-10-13 02:28:28,004 - INFO - matplotlib.category - Using categorical units to plot a list of strings that are all parsable as floats or dates. If these strings should be plotted as numbers, cast to the appropriate data type before plotting.\n",
      "2019-10-13 02:28:28,021 - INFO - matplotlib.category - Using categorical units to plot a list of strings that are all parsable as floats or dates. If these strings should be plotted as numbers, cast to the appropriate data type before plotting.\n",
      "2019-10-13 02:28:28,022 - INFO - matplotlib.category - Using categorical units to plot a list of strings that are all parsable as floats or dates. If these strings should be plotted as numbers, cast to the appropriate data type before plotting.\n"
     ]
    },
    {
     "data": {
      "text/plain": [
       "<matplotlib.legend.Legend at 0x7fb3542adba8>"
      ]
     },
     "execution_count": 289,
     "metadata": {},
     "output_type": "execute_result"
    },
    {
     "data": {
      "image/png": "[encoded data removed]",
      "text/plain": [
       "<Figure size 864x432 with 2 Axes>"
      ]
     },
     "metadata": {
      "needs_background": "light"
     },
     "output_type": "display_data"
    }
   ],
   "source": [
    "fig = plt.figure(figsize=(12, 6))\n",
    "ax1 = fig.add_subplot(111, label='exposure bias')\n",
    "\n",
    "plt.title('Epochs vs Validation PPL vs Exposure Bias')\n",
    "ax1.set_xlabel('Epochs')\n",
    "#sns.boxplot(data=exp_biases_pd, ax=ax1)\n",
    "#sns.lineplot(data=exp_biases_pd.T, ax=ax1, color='b', err_style='band')\n",
    "sns.lineplot(data=validation_exp_results.exp_mean, ax=ax1)\n",
    "#ax1.errorbar(x=validation_exp_results.index, y=validation_exp_results.exp_mean, color='g')\n",
    "\n",
    "ax1.set_ylabel('Exposure Bias')\n",
    "\n",
    "ax2 = ax1.twinx()\n",
    "#ax2.errorbar(x=validation_exp_results.index, y=validation_exp_results.val_ppl_mean, color='r')\n",
    "#sns.boxplot(data=val_ppl_pd, ax=ax2, palette='RdBu')\n",
    "#sns.lineplot(data=val_ppl_pd, ax=ax2, color='g')\n",
    "sns.lineplot(data=validation_exp_results.val_ppl_mean, ax=ax2, color='g')\n",
    "\n",
    "ax2.set_ylabel('Validation PPL')\n",
    "ax2.yaxis.set_label_position('right')\n",
    "\n",
    "\n",
    "fig.legend(['val_ppl', 'exp_biases'])\n"
   ]
  },
  {
   "cell_type": "markdown",
   "metadata": {},
   "source": [
    "# Model Size Experiments"
   ]
  },
  {
   "cell_type": "code",
   "execution_count": null,
   "metadata": {
    "jupyter": {
     "outputs_hidden": true
    },
    "scrolled": true
   },
   "outputs": [],
   "source": []
  },
  {
   "cell_type": "markdown",
   "metadata": {},
   "source": [
    "# Beam Search Experiments"
   ]
  },
  {
   "cell_type": "code",
   "execution_count": null,
   "metadata": {
    "jupyter": {
     "outputs_hidden": true
    },
    "scrolled": true
   },
   "outputs": [],
   "source": []
  },
  {
   "cell_type": "code",
   "execution_count": null,
   "metadata": {},
   "outputs": [],
   "source": []
  }
 ],
 "metadata": {
  "file_extension": ".py",
  "kernelspec": {
   "display_name": "Python 3",
   "language": "python",
   "name": "python3"
  },
  "language_info": {
   "codemirror_mode": {
    "name": "ipython",
    "version": 3
   },
   "file_extension": ".py",
   "mimetype": "text/x-python",
   "name": "python",
   "nbconvert_exporter": "python",
   "pygments_lexer": "ipython3",
   "version": "3.7.0"
  },
  "mimetype": "text/x-python",
  "name": "python",
  "npconvert_exporter": "python",
  "pygments_lexer": "ipython3",
  "version": 3
 },
 "nbformat": 4,
 "nbformat_minor": 4
}
